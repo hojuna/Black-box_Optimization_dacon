{
  "cells": [
    {
      "cell_type": "markdown",
      "metadata": {
        "id": "view-in-github",
        "colab_type": "text"
      },
      "source": [
        "<a href=\"https://colab.research.google.com/github/hojuna/Black-box_Optimization_dacon/blob/main/cluster_x6_code.ipynb\" target=\"_parent\"><img src=\"https://colab.research.google.com/assets/colab-badge.svg\" alt=\"Open In Colab\"/></a>"
      ]
    },
    {
      "cell_type": "code",
      "execution_count": null,
      "metadata": {
        "id": "ThYUvcsvixUv"
      },
      "outputs": [],
      "source": []
    },
    {
      "cell_type": "code",
      "execution_count": null,
      "metadata": {
        "colab": {
          "base_uri": "https://localhost:8080/"
        },
        "id": "O1NSoiE5x58y",
        "outputId": "eccab5d3-5c74-45fc-8da1-b0aaa15cf671"
      },
      "outputs": [
        {
          "output_type": "stream",
          "name": "stdout",
          "text": [
            "Drive already mounted at /content/drive; to attempt to forcibly remount, call drive.mount(\"/content/drive\", force_remount=True).\n"
          ]
        }
      ],
      "source": [
        "from google.colab import drive\n",
        "drive.mount('/content/drive')"
      ]
    },
    {
      "cell_type": "code",
      "execution_count": null,
      "metadata": {
        "id": "w-yOjZNqAZcW"
      },
      "outputs": [],
      "source": [
        "import pandas as pd\n",
        "import matplotlib.pyplot as plt\n",
        "import seaborn as sns\n",
        "\n",
        "# Load the data\n",
        "train_df = pd.read_csv('/content/drive/MyDrive/dacon/2024_8_data/train.csv')\n",
        "test_df = pd.read_csv('/content/drive/MyDrive/dacon/2024_8_data/test.csv')\n",
        "\n"
      ]
    },
    {
      "cell_type": "code",
      "source": [
        "import pandas as pd\n",
        "import numpy as np\n",
        "import matplotlib.pyplot as plt\n",
        "from scipy.stats import mode\n",
        "\n",
        "\n",
        "\n",
        "# # 최빈값 계산\n",
        "# mode_result = mode(train_df['x_6'])  # mode() 함수 호출\n",
        "# print(mode_result)\n",
        "# mode_value = mode_result[0]  # 최빈값 추출\n",
        "# # 최빈값을 기준으로 데이터를 분리\n",
        "# train_df['cluster'] = np.where(train_df['x_6'] <= mode_value, 0, 1)\n",
        "\n",
        "mean_result= train_df['x_6'].mean()\n",
        "train_df['cluster'] = np.where(train_df['x_6'] <= mean_result, 0, 1)\n",
        "\n",
        "print(train_df['cluster'])\n",
        "# # 결과 출력\n",
        "# print(f\"최빈값: {mode_value}\")\n",
        "\n",
        "# 클러스터링 결과 시각화\n",
        "plt.hist(train_df[train_df['cluster'] == 0]['x_6'], bins=30, alpha=0.5, label='Cluster 0')\n",
        "plt.hist(train_df[train_df['cluster'] == 1]['x_6'], bins=30, alpha=0.5, label='Cluster 1')\n",
        "plt.axvline(mean_result, color='r', linestyle='dashed', linewidth=2, label='Mode Value')\n",
        "plt.xlabel('x_6 values')\n",
        "plt.ylabel('Count')\n",
        "plt.title('Histogram of x_6 by Clusters')\n",
        "plt.legend()\n",
        "plt.show()\n"
      ],
      "metadata": {
        "colab": {
          "base_uri": "https://localhost:8080/",
          "height": 692
        },
        "id": "EKHB29ler-Ii",
        "outputId": "0162dc9d-ac93-4ba1-ab88-daed360cb3fa"
      },
      "execution_count": null,
      "outputs": [
        {
          "output_type": "stream",
          "name": "stdout",
          "text": [
            "0        0\n",
            "1        1\n",
            "2        1\n",
            "3        1\n",
            "4        0\n",
            "        ..\n",
            "40113    0\n",
            "40114    0\n",
            "40115    0\n",
            "40116    0\n",
            "40117    1\n",
            "Name: cluster, Length: 40118, dtype: int64\n"
          ]
        },
        {
          "output_type": "display_data",
          "data": {
            "text/plain": [
              "<Figure size 640x480 with 1 Axes>"
            ],
            "image/png": "[encoded data removed]"
          },
          "metadata": {}
        }
      ]
    },
    {
      "cell_type": "code",
      "source": [
        "# from sklearn.preprocessing import StandardScaler\n",
        "# from sklearn.preprocessing import MinMaxScaler\n",
        "\n",
        "\n",
        "# # # Z-Score 정규화\n",
        "# # scaler = StandardScaler()\n",
        "# # train_df['x_6_standardized'] = scaler.fit_transform(train_df[['x_6']])\n",
        "\n",
        "# scaler = MinMaxScaler()\n",
        "# train_df['x_6_normalized'] = scaler.fit_transform(train_df[['x_6']])\n",
        "\n",
        "# print(train_df)\n",
        "\n",
        "# # 클러스터 결과 시각화\n",
        "# plt.figure(figsize=(8, 6))\n",
        "# plt.hist(train_df['x_6'], bins=30, alpha=0.5, label='Cluster 1')\n",
        "# plt.legend()\n",
        "# plt.xlabel('x_6 values')\n",
        "# plt.ylabel('Count')\n",
        "# plt.title('Histogram of x_6 by Clusters')\n",
        "# plt.show()\n"
      ],
      "metadata": {
        "colab": {
          "base_uri": "https://localhost:8080/",
          "height": 1000
        },
        "id": "bzkBpKrAoZLJ",
        "outputId": "44bf1b1b-b698-4bbb-b913-dddd37165288"
      },
      "execution_count": null,
      "outputs": [
        {
          "output_type": "stream",
          "name": "stdout",
          "text": [
            "                ID       x_0       x_1       x_2       x_3       x_4  \\\n",
            "0      TRAIN_00000  1.006187 -1.962566  1.247535  0.926500 -0.265766   \n",
            "1      TRAIN_00001  1.024647 -2.472625  1.144386  0.846499 -0.287336   \n",
            "2      TRAIN_00002  1.062444 -2.451003  1.186546  0.873599 -0.257828   \n",
            "3      TRAIN_00003  1.089189 -2.458470  1.184531  0.810867 -0.276517   \n",
            "4      TRAIN_00004  1.023323 -2.133468  1.242266  0.939837 -0.264515   \n",
            "...            ...       ...       ...       ...       ...       ...   \n",
            "40113  TRAIN_40113  1.071602 -2.162285  1.243174  0.923911 -0.259240   \n",
            "40114  TRAIN_40114  1.104710 -2.280343  1.226507  0.902117 -0.250661   \n",
            "40115  TRAIN_40115  1.084876 -2.143004  1.244276  0.891797 -0.248833   \n",
            "40116  TRAIN_40116  0.994186 -1.562092  1.227734  0.908147 -0.313856   \n",
            "40117  TRAIN_40117  1.090381 -2.379771  1.172301  0.847332 -0.269832   \n",
            "\n",
            "            x_5       x_6       x_7       x_8       x_9      x_10  \\\n",
            "0     -1.789301  0.470004 -0.139467  0.623996  0.320359  0.078612   \n",
            "1     -1.756679  0.503860 -0.219545  0.697607  0.238306  0.081778   \n",
            "2     -1.802735  0.498045 -0.194247  0.684134  0.259392  0.095003   \n",
            "3     -1.787739  0.503359 -0.201923  0.686394  0.245736  0.091737   \n",
            "4     -1.792044  0.470478 -0.142896  0.623778  0.314610  0.078987   \n",
            "...         ...       ...       ...       ...       ...       ...   \n",
            "40113 -1.794923  0.474365 -0.157383  0.630043  0.308291  0.083303   \n",
            "40114 -1.816559  0.479049 -0.174707  0.663563  0.281190  0.094247   \n",
            "40115 -1.807747  0.478165 -0.168244  0.650180  0.293320  0.089925   \n",
            "40116 -1.718209  0.477257 -0.109262  0.589458  0.353898  0.042610   \n",
            "40117 -1.777072  0.501342 -0.204711  0.694926  0.249208  0.088814   \n",
            "\n",
            "       x_6_cluster          y  x_6_standardized  x_6_normalized  \n",
            "0                1  83.424500         -1.176768        0.051277  \n",
            "1                0  79.374109          0.996471        0.330381  \n",
            "2                0  82.181616          0.623247        0.282449  \n",
            "3                0  83.006586          0.964332        0.326253  \n",
            "4                1  83.051434         -1.146305        0.055189  \n",
            "...            ...        ...               ...             ...  \n",
            "40113            1  83.744586         -0.896794        0.087233  \n",
            "40114            1  83.401941         -0.596119        0.125848  \n",
            "40115            1  84.745801         -0.652884        0.118558  \n",
            "40116            1  86.192975         -0.711135        0.111077  \n",
            "40117            0  83.699707          0.834894        0.309630  \n",
            "\n",
            "[40118 rows x 16 columns]\n"
          ]
        },
        {
          "output_type": "display_data",
          "data": {
            "text/plain": [
              "<Figure size 800x600 with 1 Axes>"
            ],
            "image/png": "[encoded data removed]"
          },
          "metadata": {}
        }
      ]
    },
    {
      "cell_type": "code",
      "execution_count": null,
      "metadata": {
        "colab": {
          "base_uri": "https://localhost:8080/",
          "height": 221
        },
        "id": "i10HTGCEi9f0",
        "outputId": "72634969-f4fe-4be2-806a-21f3e2b93b41"
      },
      "outputs": [
        {
          "output_type": "error",
          "ename": "TypeError",
          "evalue": "string indices must be integers",
          "traceback": [
            "\u001b[0;31m---------------------------------------------------------------------------\u001b[0m",
            "\u001b[0;31mTypeError\u001b[0m                                 Traceback (most recent call last)",
            "\u001b[0;32m<ipython-input-11-72b21f070efb>\u001b[0m in \u001b[0;36m<cell line: 5>\u001b[0;34m()\u001b[0m\n\u001b[1;32m      6\u001b[0m   \u001b[0mdf_kManes\u001b[0m\u001b[0;34m=\u001b[0m\u001b[0mi\u001b[0m\u001b[0;34m\u001b[0m\u001b[0;34m\u001b[0m\u001b[0m\n\u001b[1;32m      7\u001b[0m   \u001b[0;31m# 예시로 사용된 DataFrame (df)에서 x_6 변수를 가져와서 reshape\u001b[0m\u001b[0;34m\u001b[0m\u001b[0;34m\u001b[0m\u001b[0m\n\u001b[0;32m----> 8\u001b[0;31m   \u001b[0mX\u001b[0m \u001b[0;34m=\u001b[0m \u001b[0mdf_kManes\u001b[0m\u001b[0;34m[\u001b[0m\u001b[0;34m'x_6_standardized'\u001b[0m\u001b[0;34m]\u001b[0m\u001b[0;34m.\u001b[0m\u001b[0mvalues\u001b[0m\u001b[0;34m.\u001b[0m\u001b[0mreshape\u001b[0m\u001b[0;34m(\u001b[0m\u001b[0;34m-\u001b[0m\u001b[0;36m1\u001b[0m\u001b[0;34m,\u001b[0m \u001b[0;36m1\u001b[0m\u001b[0;34m)\u001b[0m\u001b[0;34m\u001b[0m\u001b[0;34m\u001b[0m\u001b[0m\n\u001b[0m\u001b[1;32m      9\u001b[0m \u001b[0;34m\u001b[0m\u001b[0m\n\u001b[1;32m     10\u001b[0m   \u001b[0;31m# K-Means 클러스터링 수행 (클러스터 수는 2로 설정)\u001b[0m\u001b[0;34m\u001b[0m\u001b[0;34m\u001b[0m\u001b[0m\n",
            "\u001b[0;31mTypeError\u001b[0m: string indices must be integers"
          ]
        }
      ],
      "source": [
        "from sklearn.cluster import KMeans\n",
        "\n",
        "dump=(train_df)\n",
        "\n",
        "for i in dump:\n",
        "  df_kManes=i\n",
        "  # 예시로 사용된 DataFrame (df)에서 x_6 변수를 가져와서 reshape\n",
        "  X = df_kManes['x_6_standardized'].values.reshape(-1, 1)\n",
        "\n",
        "  # K-Means 클러스터링 수행 (클러스터 수는 2로 설정)\n",
        "  kmeans = KMeans(n_clusters=2, random_state=42)\n",
        "  df_kManes['x_6_cluster'] = kmeans.fit_predict(X)\n",
        "  i=df_kManes\n",
        "\n",
        "  # 열을 재배치하는 방법 (12번째 열과 13번째 열을 교환)\n",
        "  train_df = train_df[['ID', 'x_0', 'x_1', 'x_2', 'x_3', 'x_4', 'x_5', 'x_6', 'x_7', 'x_8', 'x_9', 'x_10', 'x_6_cluster', 'y']]\n",
        "\n",
        "\n",
        "# 클러스터 결과 시각화\n",
        "plt.figure(figsize=(8, 6))\n",
        "plt.hist(df_kManes[df_kManes['x_6_cluster'] == 0]['x_6'], bins=30, alpha=0.5, label='Cluster 1')\n",
        "plt.hist(df_kManes[df_kManes['x_6_cluster'] == 1]['x_6'], bins=30, alpha=0.5, label='Cluster 2')\n",
        "plt.legend()\n",
        "plt.xlabel('x_6 values')\n",
        "plt.ylabel('Count')\n",
        "plt.title('Histogram of x_6 by Clusters')\n",
        "plt.show()\n"
      ]
    },
    {
      "cell_type": "code",
      "source": [
        "y_mean_cluster_0 = train_df[train_df['cluster'] == 0]['y'].mean()\n",
        "\n",
        "# x_6_cluster 값이 1인 행들의 y값 평균\n",
        "y_mean_cluster_1 = train_df[train_df['cluster'] == 1]['y'].mean()\n",
        "\n",
        "print(f\"x_6_cluster가 0인 행들의 y값 평균: {y_mean_cluster_0}\")\n",
        "print(f\"x_6_cluster가 1인 행들의 y값 평균: {y_mean_cluster_1}\")"
      ],
      "metadata": {
        "colab": {
          "base_uri": "https://localhost:8080/"
        },
        "id": "uF2wtkeInhha",
        "outputId": "c92098ce-11ef-4b29-c88b-ef7f709c1a81"
      },
      "execution_count": null,
      "outputs": [
        {
          "output_type": "stream",
          "name": "stdout",
          "text": [
            "x_6_cluster가 0인 행들의 y값 평균: 84.14270660183182\n",
            "x_6_cluster가 1인 행들의 y값 평균: 83.12481425798715\n"
          ]
        }
      ]
    },
    {
      "cell_type": "code",
      "source": [
        "train_df.info()"
      ],
      "metadata": {
        "colab": {
          "base_uri": "https://localhost:8080/"
        },
        "id": "vtLzCtHYLX33",
        "outputId": "cae8c7c2-4ad9-4141-d3a2-306c5b52997c"
      },
      "execution_count": null,
      "outputs": [
        {
          "output_type": "stream",
          "name": "stdout",
          "text": [
            "<class 'pandas.core.frame.DataFrame'>\n",
            "RangeIndex: 40118 entries, 0 to 40117\n",
            "Data columns (total 14 columns):\n",
            " #   Column       Non-Null Count  Dtype  \n",
            "---  ------       --------------  -----  \n",
            " 0   ID           40118 non-null  object \n",
            " 1   x_0          40118 non-null  float64\n",
            " 2   x_1          40118 non-null  float64\n",
            " 3   x_2          40118 non-null  float64\n",
            " 4   x_3          40118 non-null  float64\n",
            " 5   x_4          40118 non-null  float64\n",
            " 6   x_5          40118 non-null  float64\n",
            " 7   x_6          40118 non-null  float64\n",
            " 8   x_7          40118 non-null  float64\n",
            " 9   x_8          40118 non-null  float64\n",
            " 10  x_9          40118 non-null  float64\n",
            " 11  x_10         40118 non-null  float64\n",
            " 12  x_6_cluster  40118 non-null  int32  \n",
            " 13  y            40118 non-null  float64\n",
            "dtypes: float64(12), int32(1), object(1)\n",
            "memory usage: 4.1+ MB\n"
          ]
        }
      ]
    },
    {
      "cell_type": "code",
      "execution_count": null,
      "metadata": {
        "colab": {
          "base_uri": "https://localhost:8080/",
          "height": 564
        },
        "id": "HDOTA736jGgZ",
        "outputId": "80fba91c-dd85-41ac-ced4-f3850030f5a3"
      },
      "outputs": [
        {
          "output_type": "display_data",
          "data": {
            "text/plain": [
              "<Figure size 800x600 with 2 Axes>"
            ],
            "image/png": "[encoded data removed]"
          },
          "metadata": {}
        }
      ],
      "source": [
        "from sklearn.decomposition import PCA\n",
        "\n",
        "df=train_df\n",
        "\n",
        "\n",
        "X_all= df.drop(columns=['ID'])  # 'ID' 열 제거\n",
        "\n",
        "y = df['y']  # 종속 변수\n",
        "\n",
        "# PCA 수행\n",
        "pca = PCA(n_components=2)  # 2차원으로 축소\n",
        "X_pca = pca.fit_transform(X_all)\n",
        "\n",
        "# PCA 결과 시각화\n",
        "plt.figure(figsize=(8, 6))\n",
        "plt.scatter(X_pca[:, 0], X_pca[:, 1], c=df['x_6_cluster'], cmap='viridis', alpha=0.5)\n",
        "plt.xlabel('Principal Component 1')\n",
        "plt.ylabel('Principal Component 2')\n",
        "plt.title('PCA of the Dataset with x_6 Clustering')\n",
        "plt.colorbar(label='Cluster')\n",
        "plt.show()\n"
      ]
    },
    {
      "cell_type": "code",
      "execution_count": null,
      "metadata": {
        "colab": {
          "base_uri": "https://localhost:8080/"
        },
        "id": "4USbUYZgAZca",
        "outputId": "827458f3-7b43-44a7-8e9a-317acd1e5b6b"
      },
      "outputs": [
        {
          "output_type": "stream",
          "name": "stdout",
          "text": [
            "Fitting 5 folds for each of 100 candidates, totalling 500 fits\n"
          ]
        },
        {
          "output_type": "stream",
          "name": "stderr",
          "text": [
            "/usr/local/lib/python3.10/dist-packages/joblib/externals/loky/process_executor.py:752: UserWarning: A worker stopped while some jobs were given to the executor. This can be caused by a too short worker timeout or by a memory leak.\n",
            "  warnings.warn(\n",
            "/usr/local/lib/python3.10/dist-packages/sklearn/model_selection/_validation.py:425: FitFailedWarning: \n",
            "90 fits failed out of a total of 500.\n",
            "The score on these train-test partitions for these parameters will be set to nan.\n",
            "If these failures are not expected, you can try to debug them by setting error_score='raise'.\n",
            "\n",
            "Below are more details about the failures:\n",
            "--------------------------------------------------------------------------------\n",
            "40 fits failed with the following error:\n",
            "Traceback (most recent call last):\n",
            "  File \"/usr/local/lib/python3.10/dist-packages/sklearn/model_selection/_validation.py\", line 729, in _fit_and_score\n",
            "    estimator.fit(X_train, y_train, **fit_params)\n",
            "  File \"/usr/local/lib/python3.10/dist-packages/sklearn/base.py\", line 1145, in wrapper\n",
            "    estimator._validate_params()\n",
            "  File \"/usr/local/lib/python3.10/dist-packages/sklearn/base.py\", line 638, in _validate_params\n",
            "    validate_parameter_constraints(\n",
            "  File \"/usr/local/lib/python3.10/dist-packages/sklearn/utils/_param_validation.py\", line 96, in validate_parameter_constraints\n",
            "    raise InvalidParameterError(\n",
            "sklearn.utils._param_validation.InvalidParameterError: The 'max_features' parameter of RandomForestRegressor must be an int in the range [1, inf), a float in the range (0.0, 1.0], a str among {'sqrt', 'log2'} or None. Got 'auto' instead.\n",
            "\n",
            "--------------------------------------------------------------------------------\n",
            "50 fits failed with the following error:\n",
            "Traceback (most recent call last):\n",
            "  File \"/usr/local/lib/python3.10/dist-packages/sklearn/model_selection/_validation.py\", line 729, in _fit_and_score\n",
            "    estimator.fit(X_train, y_train, **fit_params)\n",
            "  File \"/usr/local/lib/python3.10/dist-packages/sklearn/base.py\", line 1145, in wrapper\n",
            "    estimator._validate_params()\n",
            "  File \"/usr/local/lib/python3.10/dist-packages/sklearn/base.py\", line 638, in _validate_params\n",
            "    validate_parameter_constraints(\n",
            "  File \"/usr/local/lib/python3.10/dist-packages/sklearn/utils/_param_validation.py\", line 96, in validate_parameter_constraints\n",
            "    raise InvalidParameterError(\n",
            "sklearn.utils._param_validation.InvalidParameterError: The 'max_features' parameter of RandomForestRegressor must be an int in the range [1, inf), a float in the range (0.0, 1.0], a str among {'log2', 'sqrt'} or None. Got 'auto' instead.\n",
            "\n",
            "  warnings.warn(some_fits_failed_message, FitFailedWarning)\n",
            "/usr/local/lib/python3.10/dist-packages/sklearn/model_selection/_search.py:979: UserWarning: One or more of the test scores are non-finite: [0.6151822  0.60588408 0.60925002 0.61112046 0.60345898 0.61560973\n",
            " 0.61490201 0.61247866 0.61305202 0.60710907 0.59037546 0.60944312\n",
            " 0.6147937  0.6137978         nan 0.61214107 0.61517863 0.59795572\n",
            " 0.60954537 0.6131954  0.61411893 0.45473296 0.61381257 0.61338783\n",
            " 0.60411044        nan 0.61151278 0.60835385 0.61280785 0.61381502\n",
            " 0.5999438  0.60820415 0.6135664  0.61557235 0.61000483        nan\n",
            " 0.61365538 0.61185105        nan 0.61102307 0.61090941 0.61525433\n",
            " 0.60989458 0.60941729 0.59658156 0.60593987 0.43671514 0.61363475\n",
            " 0.61216085        nan 0.61511472 0.61458943 0.61420032 0.60370426\n",
            " 0.60941729 0.6091694  0.59324041 0.60588715        nan 0.59766382\n",
            " 0.6150216         nan 0.60994218 0.60692095 0.61020681 0.60610548\n",
            " 0.60936526 0.60252261 0.6132623  0.60767908 0.59718703        nan\n",
            " 0.6121153         nan        nan 0.61345531 0.61185491 0.60822146\n",
            " 0.61140257        nan 0.61451671 0.6150216  0.61391124 0.61099583\n",
            "        nan 0.59390318        nan 0.61380413        nan 0.615252\n",
            " 0.61155975        nan        nan 0.60613222 0.61406947 0.61359567\n",
            "        nan 0.61357581 0.61409562        nan]\n",
            "  warnings.warn(\n"
          ]
        },
        {
          "output_type": "stream",
          "name": "stdout",
          "text": [
            "Best parameters found:  {'n_estimators': 700, 'min_samples_split': 5, 'min_samples_leaf': 8, 'max_features': 'sqrt', 'max_depth': 10, 'bootstrap': True}\n",
            "Cross-validation MSE: 2.7932 (+/- 0.8807)\n"
          ]
        }
      ],
      "source": [
        "import pandas as pd\n",
        "import numpy as np\n",
        "from sklearn.model_selection import train_test_split\n",
        "from sklearn.preprocessing import StandardScaler\n",
        "import matplotlib.pyplot as plt\n",
        "import seaborn as sns\n",
        "import joblib\n",
        "import os\n",
        "\n",
        "\n",
        "from sklearn.ensemble import RandomForestRegressor\n",
        "from sklearn.model_selection import GridSearchCV,cross_val_score\n",
        "\n",
        "from sklearn.model_selection import RandomizedSearchCV\n",
        "\n",
        "\n",
        "if os.path.exists(\"/content/drive/MyDrive/dacon/model/baseline_model_saved_2.pkl\"):\n",
        "  model = joblib.load(\"baseline_model_saved2.pkl\")\n",
        "\n",
        "else:\n",
        "  X = train_df.iloc[:, 1:-1]  # Features\n",
        "  y = train_df['y']  # Target\n",
        "\n",
        "\n",
        "\n",
        "  # 모델 초기화\n",
        "  model = RandomForestRegressor(random_state=42)\n",
        "\n",
        "  # # 하이퍼파라미터 그리드 설정\n",
        "  # param_grid = {\n",
        "  #     'n_estimators': [100, 200, 300, 400, 500],\n",
        "  #     'max_depth': [None, 10, 20, 30, 40],\n",
        "  #     'min_samples_split': [2, 5, 10],\n",
        "  #     'min_samples_leaf': [1, 2, 4],\n",
        "  #     'max_features': ['auto', 'sqrt', 'log2']\n",
        "  # }\n",
        "  param_grid = {\n",
        "      'n_estimators': [100, 300, 500, 700,1000 ],  # 결정 트리의 개수\n",
        "      'max_depth': [None, 5, 10, 20, 30, 50],  # 트리의 최대 깊이\n",
        "      'min_samples_split': [2, 5, 10, 20],  # 노드를 분할하기 위한 최소 샘플 수\n",
        "      'min_samples_leaf': [1, 2, 4, 8, 16],  # 리프 노드에 필요한 최소 샘플 수\n",
        "      'max_features': ['auto', 'sqrt', 'log2', 0.5, None],  # 각 분할에서 고려할 특성의 최대 수\n",
        "      'bootstrap': [True, False],  # 부트스트랩 샘플링 여부\n",
        "  }\n",
        "\n",
        "\n",
        "  # # GridSearchCV 설정\n",
        "  # grid_search = GridSearchCV(estimator=model, param_grid=param_grid, cv=5, n_jobs=-1, verbose=2, scoring='neg_mean_squared_error')\n",
        "\n",
        "  # # GridSearchCV 실행\n",
        "  # grid_search.fit(X, y)\n",
        "\n",
        "  # # 최적의 하이퍼파라미터 출력\n",
        "  # print(\"Best Hyperparameters:\", grid_search.best_params_)\n",
        "\n",
        "  # 최적의 모델로 교차 검증 수행\n",
        "  # best_model = grid_search.best_estimator_\n",
        "\n",
        "  # 모델 및 랜덤 서치 객체 정의\n",
        "\n",
        "  random_search = RandomizedSearchCV(model, param_distributions=param_grid, n_iter=100, cv=5, verbose=2, random_state=42, n_jobs=-1)\n",
        "\n",
        "  # 모델 훈련\n",
        "  random_search.fit(X, y)\n",
        "\n",
        "  # 최적 파라미터 출력\n",
        "  print(\"Best parameters found: \", random_search.best_params_)\n",
        "\n",
        "  # 최적의 모델로 교차 검증 수행\n",
        "  best_model = random_search.best_estimator_\n",
        "\n",
        "  # 교차 검증을 통한 최종 성능 평가\n",
        "  cv_scores = cross_val_score(best_model, X, y, cv=5, scoring='neg_mean_squared_error')\n",
        "  print(f\"Cross-validation MSE: {-cv_scores.mean():.4f} (+/- {cv_scores.std() * 2:.4f})\")\n",
        "\n",
        "\n",
        "  # best_model=model\n",
        "\n",
        "  # 최적의 모델로 전체 데이터셋에 대해 훈련\n",
        "  # best_model.fit(X, y)\n",
        "\n",
        "  # 필요한 경우, 모델 저장 또는 추가 평가\n",
        "  # 예: joblib.dump(best_model, 'best_random_forest_model.pkl')\n",
        "  # model=best_model\n",
        "\n",
        "  joblib.dump(model, \"/content/drive/MyDrive/dacon/model/baseline_model_saved_2.pkl\")"
      ]
    },
    {
      "cell_type": "code",
      "source": [
        "test_df.info()\n",
        "train_df.info()\n",
        "X.info()"
      ],
      "metadata": {
        "colab": {
          "base_uri": "https://localhost:8080/"
        },
        "id": "ZYeIeyT1O4Wx",
        "outputId": "500a505c-e5f5-436b-8ad6-43bbbd89aeb5"
      },
      "execution_count": null,
      "outputs": [
        {
          "output_type": "stream",
          "name": "stdout",
          "text": [
            "<class 'pandas.core.frame.DataFrame'>\n",
            "RangeIndex: 4986 entries, 0 to 4985\n",
            "Data columns (total 13 columns):\n",
            " #   Column       Non-Null Count  Dtype  \n",
            "---  ------       --------------  -----  \n",
            " 0   ID           4986 non-null   object \n",
            " 1   x_0          4986 non-null   float64\n",
            " 2   x_1          4986 non-null   float64\n",
            " 3   x_2          4986 non-null   float64\n",
            " 4   x_3          4986 non-null   float64\n",
            " 5   x_4          4986 non-null   float64\n",
            " 6   x_5          4986 non-null   float64\n",
            " 7   x_6          4986 non-null   float64\n",
            " 8   x_7          4986 non-null   float64\n",
            " 9   x_8          4986 non-null   float64\n",
            " 10  x_9          4986 non-null   float64\n",
            " 11  x_10         4986 non-null   float64\n",
            " 12  x_6_cluster  4986 non-null   int32  \n",
            "dtypes: float64(11), int32(1), object(1)\n",
            "memory usage: 487.0+ KB\n",
            "<class 'pandas.core.frame.DataFrame'>\n",
            "RangeIndex: 40118 entries, 0 to 40117\n",
            "Data columns (total 14 columns):\n",
            " #   Column       Non-Null Count  Dtype  \n",
            "---  ------       --------------  -----  \n",
            " 0   ID           40118 non-null  object \n",
            " 1   x_0          40118 non-null  float64\n",
            " 2   x_1          40118 non-null  float64\n",
            " 3   x_2          40118 non-null  float64\n",
            " 4   x_3          40118 non-null  float64\n",
            " 5   x_4          40118 non-null  float64\n",
            " 6   x_5          40118 non-null  float64\n",
            " 7   x_6          40118 non-null  float64\n",
            " 8   x_7          40118 non-null  float64\n",
            " 9   x_8          40118 non-null  float64\n",
            " 10  x_9          40118 non-null  float64\n",
            " 11  x_10         40118 non-null  float64\n",
            " 12  x_6_cluster  40118 non-null  int32  \n",
            " 13  y            40118 non-null  float64\n",
            "dtypes: float64(12), int32(1), object(1)\n",
            "memory usage: 4.1+ MB\n",
            "<class 'pandas.core.frame.DataFrame'>\n",
            "RangeIndex: 40118 entries, 0 to 40117\n",
            "Data columns (total 12 columns):\n",
            " #   Column       Non-Null Count  Dtype  \n",
            "---  ------       --------------  -----  \n",
            " 0   x_0          40118 non-null  float64\n",
            " 1   x_1          40118 non-null  float64\n",
            " 2   x_2          40118 non-null  float64\n",
            " 3   x_3          40118 non-null  float64\n",
            " 4   x_4          40118 non-null  float64\n",
            " 5   x_5          40118 non-null  float64\n",
            " 6   x_6          40118 non-null  float64\n",
            " 7   x_7          40118 non-null  float64\n",
            " 8   x_8          40118 non-null  float64\n",
            " 9   x_9          40118 non-null  float64\n",
            " 10  x_10         40118 non-null  float64\n",
            " 11  x_6_cluster  40118 non-null  int32  \n",
            "dtypes: float64(11), int32(1)\n",
            "memory usage: 3.5 MB\n"
          ]
        }
      ]
    },
    {
      "cell_type": "code",
      "execution_count": null,
      "metadata": {
        "id": "b7qL433IAZcb",
        "colab": {
          "base_uri": "https://localhost:8080/",
          "height": 410
        },
        "outputId": "136a1886-64e6-4348-ec1d-ab7ffbeba88d"
      },
      "outputs": [
        {
          "output_type": "error",
          "ename": "NotFittedError",
          "evalue": "This RandomForestRegressor instance is not fitted yet. Call 'fit' with appropriate arguments before using this estimator.",
          "traceback": [
            "\u001b[0;31m---------------------------------------------------------------------------\u001b[0m",
            "\u001b[0;31mNotFittedError\u001b[0m                            Traceback (most recent call last)",
            "\u001b[0;32m<ipython-input-35-59ca2903fcd6>\u001b[0m in \u001b[0;36m<cell line: 2>\u001b[0;34m()\u001b[0m\n\u001b[1;32m      1\u001b[0m \u001b[0mX_test\u001b[0m \u001b[0;34m=\u001b[0m \u001b[0mtest_df\u001b[0m\u001b[0;34m.\u001b[0m\u001b[0miloc\u001b[0m\u001b[0;34m[\u001b[0m\u001b[0;34m:\u001b[0m\u001b[0;34m,\u001b[0m \u001b[0;36m1\u001b[0m\u001b[0;34m:\u001b[0m\u001b[0;34m]\u001b[0m\u001b[0;34m\u001b[0m\u001b[0;34m\u001b[0m\u001b[0m\n\u001b[0;32m----> 2\u001b[0;31m \u001b[0my_pred\u001b[0m \u001b[0;34m=\u001b[0m \u001b[0mmodel\u001b[0m\u001b[0;34m.\u001b[0m\u001b[0mpredict\u001b[0m\u001b[0;34m(\u001b[0m\u001b[0mX_test\u001b[0m\u001b[0;34m)\u001b[0m\u001b[0;34m\u001b[0m\u001b[0;34m\u001b[0m\u001b[0m\n\u001b[0m\u001b[1;32m      3\u001b[0m \u001b[0;34m\u001b[0m\u001b[0m\n\u001b[1;32m      4\u001b[0m \u001b[0;31m# Identify top 5% of predicted values\u001b[0m\u001b[0;34m\u001b[0m\u001b[0;34m\u001b[0m\u001b[0m\n\u001b[1;32m      5\u001b[0m \u001b[0mthreshold\u001b[0m \u001b[0;34m=\u001b[0m \u001b[0mnp\u001b[0m\u001b[0;34m.\u001b[0m\u001b[0mpercentile\u001b[0m\u001b[0;34m(\u001b[0m\u001b[0my_pred\u001b[0m\u001b[0;34m,\u001b[0m \u001b[0;36m95\u001b[0m\u001b[0;34m)\u001b[0m\u001b[0;34m\u001b[0m\u001b[0;34m\u001b[0m\u001b[0m\n",
            "\u001b[0;32m/usr/local/lib/python3.10/dist-packages/sklearn/ensemble/_forest.py\u001b[0m in \u001b[0;36mpredict\u001b[0;34m(self, X)\u001b[0m\n\u001b[1;32m    980\u001b[0m             \u001b[0mThe\u001b[0m \u001b[0mpredicted\u001b[0m \u001b[0mvalues\u001b[0m\u001b[0;34m.\u001b[0m\u001b[0;34m\u001b[0m\u001b[0;34m\u001b[0m\u001b[0m\n\u001b[1;32m    981\u001b[0m         \"\"\"\n\u001b[0;32m--> 982\u001b[0;31m         \u001b[0mcheck_is_fitted\u001b[0m\u001b[0;34m(\u001b[0m\u001b[0mself\u001b[0m\u001b[0;34m)\u001b[0m\u001b[0;34m\u001b[0m\u001b[0;34m\u001b[0m\u001b[0m\n\u001b[0m\u001b[1;32m    983\u001b[0m         \u001b[0;31m# Check data\u001b[0m\u001b[0;34m\u001b[0m\u001b[0;34m\u001b[0m\u001b[0m\n\u001b[1;32m    984\u001b[0m         \u001b[0mX\u001b[0m \u001b[0;34m=\u001b[0m \u001b[0mself\u001b[0m\u001b[0;34m.\u001b[0m\u001b[0m_validate_X_predict\u001b[0m\u001b[0;34m(\u001b[0m\u001b[0mX\u001b[0m\u001b[0;34m)\u001b[0m\u001b[0;34m\u001b[0m\u001b[0;34m\u001b[0m\u001b[0m\n",
            "\u001b[0;32m/usr/local/lib/python3.10/dist-packages/sklearn/utils/validation.py\u001b[0m in \u001b[0;36mcheck_is_fitted\u001b[0;34m(estimator, attributes, msg, all_or_any)\u001b[0m\n\u001b[1;32m   1459\u001b[0m \u001b[0;34m\u001b[0m\u001b[0m\n\u001b[1;32m   1460\u001b[0m     \u001b[0;32mif\u001b[0m \u001b[0;32mnot\u001b[0m \u001b[0m_is_fitted\u001b[0m\u001b[0;34m(\u001b[0m\u001b[0mestimator\u001b[0m\u001b[0;34m,\u001b[0m \u001b[0mattributes\u001b[0m\u001b[0;34m,\u001b[0m \u001b[0mall_or_any\u001b[0m\u001b[0;34m)\u001b[0m\u001b[0;34m:\u001b[0m\u001b[0;34m\u001b[0m\u001b[0;34m\u001b[0m\u001b[0m\n\u001b[0;32m-> 1461\u001b[0;31m         \u001b[0;32mraise\u001b[0m \u001b[0mNotFittedError\u001b[0m\u001b[0;34m(\u001b[0m\u001b[0mmsg\u001b[0m \u001b[0;34m%\u001b[0m \u001b[0;34m{\u001b[0m\u001b[0;34m\"name\"\u001b[0m\u001b[0;34m:\u001b[0m \u001b[0mtype\u001b[0m\u001b[0;34m(\u001b[0m\u001b[0mestimator\u001b[0m\u001b[0;34m)\u001b[0m\u001b[0;34m.\u001b[0m\u001b[0m__name__\u001b[0m\u001b[0;34m}\u001b[0m\u001b[0;34m)\u001b[0m\u001b[0;34m\u001b[0m\u001b[0;34m\u001b[0m\u001b[0m\n\u001b[0m\u001b[1;32m   1462\u001b[0m \u001b[0;34m\u001b[0m\u001b[0m\n\u001b[1;32m   1463\u001b[0m \u001b[0;34m\u001b[0m\u001b[0m\n",
            "\u001b[0;31mNotFittedError\u001b[0m: This RandomForestRegressor instance is not fitted yet. Call 'fit' with appropriate arguments before using this estimator."
          ]
        }
      ],
      "source": [
        "X_test = test_df.iloc[:, 1:]\n",
        "y_pred = model.predict(X_test)\n",
        "\n",
        "# Identify top 5% of predicted values\n",
        "threshold = np.percentile(y_pred, 95)\n",
        "top_5_percent_mask = y_pred >= threshold\n",
        "\n",
        "# Create submission file\n",
        "submission_df = pd.read_csv('/content/drive/MyDrive/dacon/2024_8_data/sample_submission.csv')\n",
        "submission_df['y'] = y_pred\n",
        "submission_df.to_csv('/content/drive/MyDrive/dacon/2024_8_data/cluster_submission.csv', index=False)\n",
        "\n",
        "print(f\"Top 5% threshold: {threshold:.4f}\")\n",
        "print(f\"Number of samples in top 5%: {sum(top_5_percent_mask)}\")"
      ]
    }
  ],
  "metadata": {
    "colab": {
      "machine_shape": "hm",
      "provenance": [],
      "mount_file_id": "1hGdP01fAZ-kWvABgVAvkjVSEQW61s5BD",
      "authorship_tag": "ABX9TyM6+Uzu/5l/nTD/4+KH0CBL",
      "include_colab_link": true
    },
    "kernelspec": {
      "display_name": "Python 3",
      "name": "python3"
    },
    "language_info": {
      "name": "python"
    }
  },
  "nbformat": 4,
  "nbformat_minor": 0
}