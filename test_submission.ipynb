{
  "nbformat": 4,
  "nbformat_minor": 0,
  "metadata": {
    "colab": {
      "provenance": [],
      "authorship_tag": "ABX9TyO+XUwJzAb6NKPBXH2J0qjm",
      "include_colab_link": true
    },
    "kernelspec": {
      "name": "python3",
      "display_name": "Python 3"
    },
    "language_info": {
      "name": "python"
    }
  },
  "cells": [
    {
      "cell_type": "markdown",
      "metadata": {
        "id": "view-in-github",
        "colab_type": "text"
      },
      "source": [
        "<a href=\"https://colab.research.google.com/github/hojuna/Black-box_Optimization_dacon/blob/main/test_submission.ipynb\" target=\"_parent\"><img src=\"https://colab.research.google.com/assets/colab-badge.svg\" alt=\"Open In Colab\"/></a>"
      ]
    },
    {
      "cell_type": "code",
      "execution_count": null,
      "metadata": {
        "colab": {
          "base_uri": "https://localhost:8080/"
        },
        "id": "7Ryle_3qX2wW",
        "outputId": "3caae835-b186-4c75-aee1-44c9a1380d13"
      },
      "outputs": [
        {
          "output_type": "stream",
          "name": "stdout",
          "text": [
            "Mounted at /content/drive\n"
          ]
        }
      ],
      "source": [
        "from google.colab import drive\n",
        "drive.mount('/content/drive')"
      ]
    },
    {
      "cell_type": "code",
      "execution_count": null,
      "metadata": {
        "id": "L12gEbzVYA7Q"
      },
      "outputs": [],
      "source": [
        "import pandas as pd\n",
        "import numpy as np\n",
        "import joblib\n",
        "import os\n",
        "\n",
        "\n",
        "# 모델을 저장할 디렉토리 경로 설정\n",
        "# save_dir = \"/content/drive/MyDrive/dacon/model/tuning_model/\"\n",
        "\n",
        "\n",
        "# Load the data\n",
        "# train_df_org = pd.read_csv('/content/drive/MyDrive/dacon/2024_8_data/train.csv')\n",
        "# test_df = pd.read_csv('/content/drive/MyDrive/dacon/2024_8_data/test.csv')"
      ]
    },
    {
      "cell_type": "code",
      "source": [],
      "metadata": {
        "id": "F73K4wHydUGG"
      },
      "execution_count": null,
      "outputs": []
    },
    {
      "cell_type": "code",
      "execution_count": null,
      "metadata": {
        "colab": {
          "base_uri": "https://localhost:8080/"
        },
        "id": "f6tkubc2dS7l",
        "outputId": "b6395ed3-d8c3-4535-ceb0-45cd7142923f"
      },
      "outputs": [
        {
          "output_type": "stream",
          "name": "stdout",
          "text": [
            "겹치는 ID:  ['TEST_2721', 'TEST_3268', 'TEST_3511', 'TEST_4013', 'TEST_2235', 'TEST_4689', 'TEST_3561', 'TEST_3693', 'TEST_0562', 'TEST_1099', 'TEST_1018', 'TEST_4597', 'TEST_0627', 'TEST_2662', 'TEST_1009', 'TEST_1871', 'TEST_0978', 'TEST_2553', 'TEST_4335', 'TEST_0703', 'TEST_2393', 'TEST_0592', 'TEST_2103', 'TEST_0496', 'TEST_3347', 'TEST_1928', 'TEST_2060', 'TEST_3543', 'TEST_2565', 'TEST_4436', 'TEST_3480', 'TEST_0130', 'TEST_4391', 'TEST_1949', 'TEST_0783', 'TEST_4043', 'TEST_1999', 'TEST_3356', 'TEST_0809', 'TEST_3990', 'TEST_3502', 'TEST_1380', 'TEST_2249', 'TEST_1595', 'TEST_3978', 'TEST_0963', 'TEST_0608', 'TEST_0125', 'TEST_2808', 'TEST_1599', 'TEST_3209', 'TEST_0865', 'TEST_3830', 'TEST_1850', 'TEST_2765', 'TEST_1621', 'TEST_3982', 'TEST_3265', 'TEST_1089', 'TEST_0460', 'TEST_0739', 'TEST_2658', 'TEST_1156', 'TEST_2679', 'TEST_3448', 'TEST_2229', 'TEST_0864', 'TEST_4736', 'TEST_2418', 'TEST_0800', 'TEST_1898', 'TEST_2433', 'TEST_4077', 'TEST_0713', 'TEST_3065', 'TEST_1755', 'TEST_2706', 'TEST_4455', 'TEST_0299', 'TEST_1193', 'TEST_1343', 'TEST_0122', 'TEST_4501', 'TEST_3532', 'TEST_0711', 'TEST_4878', 'TEST_2749', 'TEST_3956', 'TEST_2204', 'TEST_4283', 'TEST_0202', 'TEST_1400', 'TEST_4872', 'TEST_1026', 'TEST_0698', 'TEST_3281', 'TEST_4105', 'TEST_1528', 'TEST_1839', 'TEST_1346', 'TEST_1816', 'TEST_3459', 'TEST_0907', 'TEST_3829', 'TEST_2549', 'TEST_2561', 'TEST_2718', 'TEST_2255', 'TEST_2079', 'TEST_2140', 'TEST_4674', 'TEST_1653', 'TEST_4682', 'TEST_2287', 'TEST_2742', 'TEST_3859', 'TEST_4781', 'TEST_2395', 'TEST_3474', 'TEST_3390', 'TEST_2754', 'TEST_4196', 'TEST_3889', 'TEST_4960', 'TEST_0378', 'TEST_0918', 'TEST_1818', 'TEST_3744', 'TEST_0392', 'TEST_0197', 'TEST_1141', 'TEST_3745', 'TEST_3971', 'TEST_1377', 'TEST_0603', 'TEST_4070', 'TEST_0917', 'TEST_3838', 'TEST_0580', 'TEST_3216', 'TEST_0572', 'TEST_2763', 'TEST_4543', 'TEST_4039', 'TEST_0830', 'TEST_4094', 'TEST_0581', 'TEST_3739', 'TEST_2398', 'TEST_2714', 'TEST_2256', 'TEST_4928', 'TEST_1427', 'TEST_0175', 'TEST_3343', 'TEST_4915', 'TEST_0313', 'TEST_4019', 'TEST_3379', 'TEST_3504', 'TEST_1083', 'TEST_3801', 'TEST_3338', 'TEST_4775', 'TEST_2231', 'TEST_4787', 'TEST_2014', 'TEST_2331', 'TEST_0161', 'TEST_2264', 'TEST_0571', 'TEST_0538', 'TEST_1545', 'TEST_1529', 'TEST_2879', 'TEST_4495', 'TEST_3731', 'TEST_1060', 'TEST_3692', 'TEST_1478', 'TEST_4921', 'TEST_2173', 'TEST_2505', 'TEST_3579', 'TEST_3329', 'TEST_2684', 'TEST_0718', 'TEST_4062', 'TEST_3981', 'TEST_3288', 'TEST_4531', 'TEST_3506', 'TEST_4248', 'TEST_3319', 'TEST_3523', 'TEST_2966', 'TEST_4295', 'TEST_0886', 'TEST_0612', 'TEST_1958', 'TEST_3309', 'TEST_1946', 'TEST_0208', 'TEST_2260', 'TEST_1706', 'TEST_0203', 'TEST_1012', 'TEST_4292', 'TEST_4051', 'TEST_2035', 'TEST_4037', 'TEST_4834', 'TEST_0057', 'TEST_0086', 'TEST_0872', 'TEST_4213', 'TEST_2169', 'TEST_3786', 'TEST_1592', 'TEST_3696', 'TEST_2146', 'TEST_4363', 'TEST_2713', 'TEST_1299', 'TEST_0731', 'TEST_3090', 'TEST_1751', 'TEST_2927', 'TEST_3515', 'TEST_2937', 'TEST_1020', 'TEST_4699', 'TEST_0968', 'TEST_3593', 'TEST_3482', 'TEST_3932', 'TEST_0015', 'TEST_3213', 'TEST_1843', 'TEST_1973', 'TEST_4703', 'TEST_1224', 'TEST_1812', 'TEST_4697', 'TEST_3495', 'TEST_2143', 'TEST_4975', 'TEST_4169', 'TEST_1172', 'TEST_2058', 'TEST_0840', 'TEST_0977', 'TEST_4881', 'TEST_1220', 'TEST_3718', 'TEST_1932', 'TEST_3005', 'TEST_4690', 'TEST_1775', 'TEST_3402', 'TEST_0805', 'TEST_4652', 'TEST_4522', 'TEST_4586', 'TEST_3287', 'TEST_4802', 'TEST_2345', 'TEST_1609', 'TEST_2733', 'TEST_1287', 'TEST_4746', 'TEST_2719', 'TEST_1610', 'TEST_2351', 'TEST_1530', 'TEST_1746', 'TEST_0721', 'TEST_2093', 'TEST_3811', 'TEST_2292', 'TEST_1002', 'TEST_0984', 'TEST_1978', 'TEST_2424', 'TEST_4759', 'TEST_3633', 'TEST_4962', 'TEST_1976', 'TEST_3730', 'TEST_2788', 'TEST_1361', 'TEST_3734', 'TEST_4214', 'TEST_4955', 'TEST_3675', 'TEST_2251', 'TEST_4734', 'TEST_3925', 'TEST_1598', 'TEST_4738', 'TEST_1650', 'TEST_2381', 'TEST_0520', 'TEST_4293', 'TEST_4545', 'TEST_1788', 'TEST_1374', 'TEST_2627', 'TEST_4450', 'TEST_3403', 'TEST_4708', 'TEST_0085', 'TEST_4259', 'TEST_4287', 'TEST_0167', 'TEST_3349', 'TEST_4305', 'TEST_2315', 'TEST_0621', 'TEST_2128', 'TEST_4220', 'TEST_1731', 'TEST_3789', 'TEST_4747', 'TEST_1381', 'TEST_2386', 'TEST_2941', 'TEST_4330', 'TEST_2607', 'TEST_1253', 'TEST_1429', 'TEST_2543', 'TEST_0506', 'TEST_1255', 'TEST_1680', 'TEST_1327', 'TEST_4258', 'TEST_3259', 'TEST_1690', 'TEST_1803', 'TEST_4474', 'TEST_1780', 'TEST_1853', 'TEST_0490', 'TEST_0647', 'TEST_2432', 'TEST_3157', 'TEST_4573', 'TEST_4154', 'TEST_0976', 'TEST_0403', 'TEST_1495', 'TEST_2589', 'TEST_3172', 'TEST_4410', 'TEST_1015', 'TEST_0814', 'TEST_4748', 'TEST_1246', 'TEST_1970', 'TEST_0632', 'TEST_2547', 'TEST_0539', 'TEST_3014', 'TEST_2429', 'TEST_3330', 'TEST_1162', 'TEST_0815', 'TEST_4205', 'TEST_0769', 'TEST_3004', 'TEST_0588', 'TEST_2499', 'TEST_1990', 'TEST_2803', 'TEST_1331', 'TEST_2403', 'TEST_1597', 'TEST_2444', 'TEST_2772', 'TEST_1192', 'TEST_3094', 'TEST_3907', 'TEST_2108', 'TEST_0425', 'TEST_2770', 'TEST_0244', 'TEST_2332', 'TEST_4828', 'TEST_0447', 'TEST_1248', 'TEST_0846', 'TEST_4705', 'TEST_4237', 'TEST_1394', 'TEST_0180', 'TEST_4140', 'TEST_1510', 'TEST_3676', 'TEST_1917', 'TEST_1645', 'TEST_1494', 'TEST_0542', 'TEST_2036', 'TEST_0254', 'TEST_3986', 'TEST_4300', 'TEST_0665', 'TEST_3625', 'TEST_4069', 'TEST_1721', 'TEST_0799', 'TEST_2125', 'TEST_4318', 'TEST_1486', 'TEST_2985', 'TEST_1661', 'TEST_0535', 'TEST_3975', 'TEST_3455', 'TEST_4745', 'TEST_0326', 'TEST_0361', 'TEST_2068', 'TEST_0613', 'TEST_3627', 'TEST_4437', 'TEST_2285', 'TEST_0691', 'TEST_1335', 'TEST_2893', 'TEST_2947', 'TEST_1557', 'TEST_1512', 'TEST_2894', 'TEST_4508', 'TEST_3377', 'TEST_1215', 'TEST_3420', 'TEST_2865', 'TEST_0143', 'TEST_2000', 'TEST_3576', 'TEST_1593', 'TEST_1370', 'TEST_0823', 'TEST_2998', 'TEST_0453', 'TEST_0207', 'TEST_4533', 'TEST_1363', 'TEST_0706', 'TEST_1077', 'TEST_4470', 'TEST_1485', 'TEST_1517', 'TEST_0347', 'TEST_0666', 'TEST_3372', 'TEST_2569', 'TEST_2540', 'TEST_0309', 'TEST_2467', 'TEST_4971', 'TEST_1831', 'TEST_4392', 'TEST_0107', 'TEST_1841', 'TEST_3906', 'TEST_4936', 'TEST_3749', 'TEST_3365', 'TEST_4247', 'TEST_0224', 'TEST_2887', 'TEST_4472', 'TEST_2016', 'TEST_2394', 'TEST_0642', 'TEST_3102', 'TEST_1055', 'TEST_4582', 'TEST_4329', 'TEST_1144', 'TEST_4082', 'TEST_0510', 'TEST_0389', 'TEST_0813', 'TEST_2064', 'TEST_4085', 'TEST_2003', 'TEST_1966', 'TEST_2896', 'TEST_2682']\n",
            "안 겹치는 ID:  ['TEST_4033', 'TEST_4982', 'TEST_1904', 'TEST_0493', 'TEST_0635', 'TEST_2632', 'TEST_2613', 'TEST_4221']\n",
            "15      0.966071\n",
            "57      0.982652\n",
            "85      0.982602\n",
            "86      0.970448\n",
            "107     0.993624\n",
            "          ...   \n",
            "4955    0.966339\n",
            "4960    0.971957\n",
            "4962    0.988446\n",
            "4971    0.991400\n",
            "4975    0.993357\n",
            "Name: similarity, Length: 494, dtype: float64\n",
            "Not common IDs가 각 데이터프레임의 상위 10%에 존재하는지 여부:\n",
            "          id  in_df1  in_df2\n",
            "0  TEST_4033    True   False\n",
            "1  TEST_4982    True   False\n",
            "2  TEST_1904    True   False\n",
            "3  TEST_0493   False    True\n",
            "4  TEST_0635   False    True\n",
            "5  TEST_2632    True   False\n",
            "6  TEST_2613   False    True\n",
            "7  TEST_4221   False    True\n"
          ]
        }
      ],
      "source": [
        "import pandas as pd\n",
        "from sklearn.metrics.pairwise import cosine_similarity\n",
        "\n",
        "# 1. 데이터프레임 불러오기\n",
        "# 데이터프레임이 두 개 있다고 가정하고 df1, df2로 불러온다.\n",
        "df1 = pd.read_csv('/content/drive/MyDrive/dacon/2024_8_data/submission/FE6_stacking_submission.csv')  # 첫 번째 파일\n",
        "df2 = pd.read_csv('/content/drive/MyDrive/dacon/2024_8_data/Fe_huber.csv')\n",
        "# df2 = pd.read_csv('/content/drive/MyDrive/dacon/2024_8_data/submission/FE4_stacking_submission.csv')\n",
        "# 2. 같은 id를 가진 데이터에서 y_pred값의 유사도 계산\n",
        "# ID를 기준으로 데이터를 병합\n",
        "merged_df = pd.merge(df1[['ID', 'y']], df2[['ID', 'y']], on='ID', suffixes=('_df1', '_df2'))\n",
        "\n",
        "# 코사인 유사도 계산\n",
        "# merged_df['similarity'] = merged_df.apply(lambda row: cosine_similarity([[row['y_df1']]], [[row['y_df2']]])[0][0], axis=1)\n",
        "merged_df['similarity'] =1 - abs(merged_df['y_df1'] - merged_df['y_df2']) / max(merged_df['y_df1'].max(), merged_df['y_df2'].max())\n",
        "\n",
        "# 3. y_pred 값을 기준으로 상위 10% id 추출\n",
        "top_10_percent_df1 = df1.nlargest(int(len(df1) * 0.1), 'y')['ID'].tolist()\n",
        "top_10_percent_df2 = df2.nlargest(int(len(df2) * 0.1), 'y')['ID'].tolist()\n",
        "\n",
        "# 4. 상위 10% id들간 유사도 계산\n",
        "# 상위 10%의 id를 기준으로 필터링\n",
        "top_merged_df = merged_df[merged_df['ID'].isin(top_10_percent_df1) & merged_df['ID'].isin(top_10_percent_df2)]\n",
        "\n",
        "# 5. 겹치는 id와 안 겹치는 id 리스트 반환\n",
        "# 겹치는 id\n",
        "common_ids = set(top_10_percent_df1).intersection(set(top_10_percent_df2))\n",
        "# 안 겹치는 id\n",
        "not_common_ids = set(top_10_percent_df1).symmetric_difference(set(top_10_percent_df2))\n",
        "\n",
        "# 결과 출력\n",
        "print(\"겹치는 ID: \", list(common_ids))\n",
        "print(\"안 겹치는 ID: \", list(not_common_ids))\n",
        "\n",
        "# 유사도 계산된 데이터프레임 출력\n",
        "print(top_merged_df['similarity'])\n",
        "\n",
        "\n",
        "# 5. not_common_ids가 어떤 df에 존재하고 어떤 df에 존재하지 않는지 확인\n",
        "not_common_info = []\n",
        "\n",
        "for id in not_common_ids:\n",
        "    in_df1 = id in top_10_percent_df1\n",
        "    in_df2 = id in top_10_percent_df2\n",
        "    not_common_info.append({\n",
        "        'id': id,\n",
        "        'in_df1': in_df1,\n",
        "        'in_df2': in_df2\n",
        "    })\n",
        "\n",
        "# 6. 결과를 데이터프레임으로 변환\n",
        "not_common_df = pd.DataFrame(not_common_info)\n",
        "\n",
        "# 7. 결과 출력\n",
        "print(\"Not common IDs가 각 데이터프레임의 상위 10%에 존재하는지 여부:\")\n",
        "print(not_common_df)"
      ]
    },
    {
      "cell_type": "code",
      "source": [
        "test_df = pd.read_csv('/content/drive/MyDrive/dacon/2024_8_data/test.csv')"
      ],
      "metadata": {
        "id": "gtY_TZi2dUI-"
      },
      "execution_count": null,
      "outputs": []
    },
    {
      "cell_type": "code",
      "source": [
        "for i in not_common_info:\n",
        "  print(test_df[test_df['ID']==i[\"id\"]])\n",
        "  # print(i[\"ID\"])"
      ],
      "metadata": {
        "colab": {
          "base_uri": "https://localhost:8080/"
        },
        "id": "Uon0eQUc38rJ",
        "outputId": "25e0b7fd-9738-43b5-b73f-317b53054364"
      },
      "execution_count": null,
      "outputs": [
        {
          "output_type": "stream",
          "name": "stdout",
          "text": [
            "             ID       x_0       x_1       x_2       x_3     x_4       x_5  \\\n",
            "4033  TEST_4033  0.929017 -1.319202  1.132521  0.928131 -0.4666 -1.603482   \n",
            "\n",
            "           x_6       x_7       x_8       x_9      x_10  \n",
            "4033  0.542868 -0.068696  0.582643  0.397533 -0.017832  \n",
            "             ID       x_0       x_1       x_2       x_3       x_4       x_5  \\\n",
            "4982  TEST_4982  0.932432 -1.193839  1.139827  0.955182 -0.471994 -1.600613   \n",
            "\n",
            "           x_6       x_7       x_8       x_9      x_10  \n",
            "4982  0.541196 -0.071568  0.583131  0.397209 -0.017859  \n",
            "             ID       x_0       x_1       x_2       x_3      x_4       x_5  \\\n",
            "1904  TEST_1904  0.970285 -1.122419  1.109129  0.939056 -0.48429 -1.587136   \n",
            "\n",
            "           x_6     x_7       x_8       x_9      x_10  \n",
            "1904  0.545254 -0.0651  0.583269  0.400834 -0.023595  \n",
            "            ID       x_0       x_1       x_2       x_3       x_4       x_5  \\\n",
            "493  TEST_0493  0.918469 -1.309186  1.142507  0.951061 -0.453826 -1.603024   \n",
            "\n",
            "          x_6       x_7       x_8       x_9      x_10  \n",
            "493  0.540885 -0.070127  0.579835  0.399579 -0.016462  \n",
            "            ID       x_0       x_1       x_2       x_3       x_4       x_5  \\\n",
            "635  TEST_0635  0.917781 -1.239028  1.140896  0.948947 -0.469531 -1.602144   \n",
            "\n",
            "          x_6       x_7       x_8       x_9      x_10  \n",
            "635  0.539699 -0.075199  0.578516  0.401835 -0.016734  \n",
            "             ID       x_0       x_1      x_2       x_3       x_4       x_5  \\\n",
            "2632  TEST_2632  0.973666 -1.226481  1.14614  0.940225 -0.456507 -1.603538   \n",
            "\n",
            "           x_6       x_7       x_8       x_9      x_10  \n",
            "2632  0.539448 -0.074272  0.580431  0.398295 -0.017186  \n",
            "             ID       x_0       x_1       x_2       x_3      x_4       x_5  \\\n",
            "2613  TEST_2613  0.974552 -1.338527  1.145203  0.958389 -0.45766 -1.606754   \n",
            "\n",
            "           x_6      x_7       x_8       x_9      x_10  \n",
            "2613  0.533583 -0.07777  0.576909  0.399103 -0.014893  \n",
            "             ID       x_0      x_1       x_2       x_3      x_4       x_5  \\\n",
            "4221  TEST_4221  0.954349 -1.31791  1.151509  0.954435 -0.45761 -1.603621   \n",
            "\n",
            "           x_6       x_7       x_8       x_9      x_10  \n",
            "4221  0.532879 -0.068488  0.578439  0.396782 -0.014838  \n"
          ]
        }
      ]
    },
    {
      "cell_type": "code",
      "source": [
        "\n",
        "'TEST_3319' in top_10_percent_df1"
      ],
      "metadata": {
        "colab": {
          "base_uri": "https://localhost:8080/"
        },
        "id": "YH2JxQ1WHmoy",
        "outputId": "4e05d717-314c-4eb4-8ce7-fc87f0859e8f"
      },
      "execution_count": null,
      "outputs": [
        {
          "output_type": "execute_result",
          "data": {
            "text/plain": [
              "True"
            ]
          },
          "metadata": {},
          "execution_count": 15
        }
      ]
    },
    {
      "cell_type": "code",
      "source": [
        "test_df[test_df['ID']=='TEST_4982']"
      ],
      "metadata": {
        "id": "JmfmQfr0moBA",
        "colab": {
          "base_uri": "https://localhost:8080/",
          "height": 81
        },
        "outputId": "cb71279b-723d-46b4-a6a4-dbe3f23135e0"
      },
      "execution_count": null,
      "outputs": [
        {
          "output_type": "execute_result",
          "data": {
            "text/plain": [
              "             ID       x_0       x_1      x_2       x_3       x_4       x_5  \\\n",
              "2632  TEST_2632  0.973666 -1.226481  1.14614  0.940225 -0.456507 -1.603538   \n",
              "\n",
              "           x_6       x_7       x_8       x_9      x_10  \n",
              "2632  0.539448 -0.074272  0.580431  0.398295 -0.017186  "
            ],
            "text/html": [
              "\n",
              "  <div id=\"df-1a214394-b290-48ea-8580-8c5ddbd1bfe3\" class=\"colab-df-container\">\n",
              "    <div>\n",
              "<style scoped>\n",
              "    .dataframe tbody tr th:only-of-type {\n",
              "        vertical-align: middle;\n",
              "    }\n",
              "\n",
              "    .dataframe tbody tr th {\n",
              "        vertical-align: top;\n",
              "    }\n",
              "\n",
              "    .dataframe thead th {\n",
              "        text-align: right;\n",
              "    }\n",
              "</style>\n",
              "<table border=\"1\" class=\"dataframe\">\n",
              "  <thead>\n",
              "    <tr style=\"text-align: right;\">\n",
              "      <th></th>\n",
              "      <th>ID</th>\n",
              "      <th>x_0</th>\n",
              "      <th>x_1</th>\n",
              "      <th>x_2</th>\n",
              "      <th>x_3</th>\n",
              "      <th>x_4</th>\n",
              "      <th>x_5</th>\n",
              "      <th>x_6</th>\n",
              "      <th>x_7</th>\n",
              "      <th>x_8</th>\n",
              "      <th>x_9</th>\n",
              "      <th>x_10</th>\n",
              "    </tr>\n",
              "  </thead>\n",
              "  <tbody>\n",
              "    <tr>\n",
              "      <th>2632</th>\n",
              "      <td>TEST_2632</td>\n",
              "      <td>0.973666</td>\n",
              "      <td>-1.226481</td>\n",
              "      <td>1.14614</td>\n",
              "      <td>0.940225</td>\n",
              "      <td>-0.456507</td>\n",
              "      <td>-1.603538</td>\n",
              "      <td>0.539448</td>\n",
              "      <td>-0.074272</td>\n",
              "      <td>0.580431</td>\n",
              "      <td>0.398295</td>\n",
              "      <td>-0.017186</td>\n",
              "    </tr>\n",
              "  </tbody>\n",
              "</table>\n",
              "</div>\n",
              "    <div class=\"colab-df-buttons\">\n",
              "\n",
              "  <div class=\"colab-df-container\">\n",
              "    <button class=\"colab-df-convert\" onclick=\"convertToInteractive('df-1a214394-b290-48ea-8580-8c5ddbd1bfe3')\"\n",
              "            title=\"Convert this dataframe to an interactive table.\"\n",
              "            style=\"display:none;\">\n",
              "\n",
              "  <svg xmlns=\"http://www.w3.org/2000/svg\" height=\"24px\" viewBox=\"0 -960 960 960\">\n",
              "    <path d=\"M120-120v-720h720v720H120Zm60-500h600v-160H180v160Zm220 220h160v-160H400v160Zm0 220h160v-160H400v160ZM180-400h160v-160H180v160Zm440 0h160v-160H620v160ZM180-180h160v-160H180v160Zm440 0h160v-160H620v160Z\"/>\n",
              "  </svg>\n",
              "    </button>\n",
              "\n",
              "  <style>\n",
              "    .colab-df-container {\n",
              "      display:flex;\n",
              "      gap: 12px;\n",
              "    }\n",
              "\n",
              "    .colab-df-convert {\n",
              "      background-color: #E8F0FE;\n",
              "      border: none;\n",
              "      border-radius: 50%;\n",
              "      cursor: pointer;\n",
              "      display: none;\n",
              "      fill: #1967D2;\n",
              "      height: 32px;\n",
              "      padding: 0 0 0 0;\n",
              "      width: 32px;\n",
              "    }\n",
              "\n",
              "    .colab-df-convert:hover {\n",
              "      background-color: #E2EBFA;\n",
              "      box-shadow: 0px 1px 2px rgba(60, 64, 67, 0.3), 0px 1px 3px 1px rgba(60, 64, 67, 0.15);\n",
              "      fill: #174EA6;\n",
              "    }\n",
              "\n",
              "    .colab-df-buttons div {\n",
              "      margin-bottom: 4px;\n",
              "    }\n",
              "\n",
              "    [theme=dark] .colab-df-convert {\n",
              "      background-color: #3B4455;\n",
              "      fill: #D2E3FC;\n",
              "    }\n",
              "\n",
              "    [theme=dark] .colab-df-convert:hover {\n",
              "      background-color: #434B5C;\n",
              "      box-shadow: 0px 1px 3px 1px rgba(0, 0, 0, 0.15);\n",
              "      filter: drop-shadow(0px 1px 2px rgba(0, 0, 0, 0.3));\n",
              "      fill: #FFFFFF;\n",
              "    }\n",
              "  </style>\n",
              "\n",
              "    <script>\n",
              "      const buttonEl =\n",
              "        document.querySelector('#df-1a214394-b290-48ea-8580-8c5ddbd1bfe3 button.colab-df-convert');\n",
              "      buttonEl.style.display =\n",
              "        google.colab.kernel.accessAllowed ? 'block' : 'none';\n",
              "\n",
              "      async function convertToInteractive(key) {\n",
              "        const element = document.querySelector('#df-1a214394-b290-48ea-8580-8c5ddbd1bfe3');\n",
              "        const dataTable =\n",
              "          await google.colab.kernel.invokeFunction('convertToInteractive',\n",
              "                                                    [key], {});\n",
              "        if (!dataTable) return;\n",
              "\n",
              "        const docLinkHtml = 'Like what you see? Visit the ' +\n",
              "          '<a target=\"_blank\" href=https://colab.research.google.com/notebooks/data_table.ipynb>data table notebook</a>'\n",
              "          + ' to learn more about interactive tables.';\n",
              "        element.innerHTML = '';\n",
              "        dataTable['output_type'] = 'display_data';\n",
              "        await google.colab.output.renderOutput(dataTable, element);\n",
              "        const docLink = document.createElement('div');\n",
              "        docLink.innerHTML = docLinkHtml;\n",
              "        element.appendChild(docLink);\n",
              "      }\n",
              "    </script>\n",
              "  </div>\n",
              "\n",
              "\n",
              "    </div>\n",
              "  </div>\n"
            ],
            "application/vnd.google.colaboratory.intrinsic+json": {
              "type": "dataframe",
              "summary": "{\n  \"name\": \"test_df[test_df['ID']=='TEST_2632']\",\n  \"rows\": 1,\n  \"fields\": [\n    {\n      \"column\": \"ID\",\n      \"properties\": {\n        \"dtype\": \"string\",\n        \"num_unique_values\": 1,\n        \"samples\": [\n          \"TEST_2632\"\n        ],\n        \"semantic_type\": \"\",\n        \"description\": \"\"\n      }\n    },\n    {\n      \"column\": \"x_0\",\n      \"properties\": {\n        \"dtype\": \"number\",\n        \"std\": null,\n        \"min\": 0.9736662928235688,\n        \"max\": 0.9736662928235688,\n        \"num_unique_values\": 1,\n        \"samples\": [\n          0.9736662928235688\n        ],\n        \"semantic_type\": \"\",\n        \"description\": \"\"\n      }\n    },\n    {\n      \"column\": \"x_1\",\n      \"properties\": {\n        \"dtype\": \"number\",\n        \"std\": null,\n        \"min\": -1.2264814723528308,\n        \"max\": -1.2264814723528308,\n        \"num_unique_values\": 1,\n        \"samples\": [\n          -1.2264814723528308\n        ],\n        \"semantic_type\": \"\",\n        \"description\": \"\"\n      }\n    },\n    {\n      \"column\": \"x_2\",\n      \"properties\": {\n        \"dtype\": \"number\",\n        \"std\": null,\n        \"min\": 1.1461396527260994,\n        \"max\": 1.1461396527260994,\n        \"num_unique_values\": 1,\n        \"samples\": [\n          1.1461396527260994\n        ],\n        \"semantic_type\": \"\",\n        \"description\": \"\"\n      }\n    },\n    {\n      \"column\": \"x_3\",\n      \"properties\": {\n        \"dtype\": \"number\",\n        \"std\": null,\n        \"min\": 0.9402254888240732,\n        \"max\": 0.9402254888240732,\n        \"num_unique_values\": 1,\n        \"samples\": [\n          0.9402254888240732\n        ],\n        \"semantic_type\": \"\",\n        \"description\": \"\"\n      }\n    },\n    {\n      \"column\": \"x_4\",\n      \"properties\": {\n        \"dtype\": \"number\",\n        \"std\": null,\n        \"min\": -0.4565073764678744,\n        \"max\": -0.4565073764678744,\n        \"num_unique_values\": 1,\n        \"samples\": [\n          -0.4565073764678744\n        ],\n        \"semantic_type\": \"\",\n        \"description\": \"\"\n      }\n    },\n    {\n      \"column\": \"x_5\",\n      \"properties\": {\n        \"dtype\": \"number\",\n        \"std\": null,\n        \"min\": -1.6035383338220224,\n        \"max\": -1.6035383338220224,\n        \"num_unique_values\": 1,\n        \"samples\": [\n          -1.6035383338220224\n        ],\n        \"semantic_type\": \"\",\n        \"description\": \"\"\n      }\n    },\n    {\n      \"column\": \"x_6\",\n      \"properties\": {\n        \"dtype\": \"number\",\n        \"std\": null,\n        \"min\": 0.5394483029666808,\n        \"max\": 0.5394483029666808,\n        \"num_unique_values\": 1,\n        \"samples\": [\n          0.5394483029666808\n        ],\n        \"semantic_type\": \"\",\n        \"description\": \"\"\n      }\n    },\n    {\n      \"column\": \"x_7\",\n      \"properties\": {\n        \"dtype\": \"number\",\n        \"std\": null,\n        \"min\": -0.0742719799044866,\n        \"max\": -0.0742719799044866,\n        \"num_unique_values\": 1,\n        \"samples\": [\n          -0.0742719799044866\n        ],\n        \"semantic_type\": \"\",\n        \"description\": \"\"\n      }\n    },\n    {\n      \"column\": \"x_8\",\n      \"properties\": {\n        \"dtype\": \"number\",\n        \"std\": null,\n        \"min\": 0.5804305805789283,\n        \"max\": 0.5804305805789283,\n        \"num_unique_values\": 1,\n        \"samples\": [\n          0.5804305805789283\n        ],\n        \"semantic_type\": \"\",\n        \"description\": \"\"\n      }\n    },\n    {\n      \"column\": \"x_9\",\n      \"properties\": {\n        \"dtype\": \"number\",\n        \"std\": null,\n        \"min\": 0.3982946573350521,\n        \"max\": 0.3982946573350521,\n        \"num_unique_values\": 1,\n        \"samples\": [\n          0.3982946573350521\n        ],\n        \"semantic_type\": \"\",\n        \"description\": \"\"\n      }\n    },\n    {\n      \"column\": \"x_10\",\n      \"properties\": {\n        \"dtype\": \"number\",\n        \"std\": null,\n        \"min\": -0.0171858683410962,\n        \"max\": -0.0171858683410962,\n        \"num_unique_values\": 1,\n        \"samples\": [\n          -0.0171858683410962\n        ],\n        \"semantic_type\": \"\",\n        \"description\": \"\"\n      }\n    }\n  ]\n}"
            }
          },
          "metadata": {},
          "execution_count": 24
        }
      ]
    },
    {
      "cell_type": "code",
      "source": [
        "# TEST_4711\n",
        "# TEST_2220"
      ],
      "metadata": {
        "id": "T18BkHAQmuo6"
      },
      "execution_count": null,
      "outputs": []
    },
    {
      "cell_type": "code",
      "source": [
        "df1[df1['ID']=='TEST_2632']"
      ],
      "metadata": {
        "colab": {
          "base_uri": "https://localhost:8080/",
          "height": 81
        },
        "id": "JcjHEtvPjPUu",
        "outputId": "73f69b77-ecf6-4cdc-f9ca-087729b9ddaf"
      },
      "execution_count": null,
      "outputs": [
        {
          "output_type": "execute_result",
          "data": {
            "text/plain": [
              "             ID         y\n",
              "4982  TEST_4982  90.91188"
            ],
            "text/html": [
              "\n",
              "  <div id=\"df-c1f7be8f-9a1b-4010-857e-9c9ee2bfbe88\" class=\"colab-df-container\">\n",
              "    <div>\n",
              "<style scoped>\n",
              "    .dataframe tbody tr th:only-of-type {\n",
              "        vertical-align: middle;\n",
              "    }\n",
              "\n",
              "    .dataframe tbody tr th {\n",
              "        vertical-align: top;\n",
              "    }\n",
              "\n",
              "    .dataframe thead th {\n",
              "        text-align: right;\n",
              "    }\n",
              "</style>\n",
              "<table border=\"1\" class=\"dataframe\">\n",
              "  <thead>\n",
              "    <tr style=\"text-align: right;\">\n",
              "      <th></th>\n",
              "      <th>ID</th>\n",
              "      <th>y</th>\n",
              "    </tr>\n",
              "  </thead>\n",
              "  <tbody>\n",
              "    <tr>\n",
              "      <th>4982</th>\n",
              "      <td>TEST_4982</td>\n",
              "      <td>90.91188</td>\n",
              "    </tr>\n",
              "  </tbody>\n",
              "</table>\n",
              "</div>\n",
              "    <div class=\"colab-df-buttons\">\n",
              "\n",
              "  <div class=\"colab-df-container\">\n",
              "    <button class=\"colab-df-convert\" onclick=\"convertToInteractive('df-c1f7be8f-9a1b-4010-857e-9c9ee2bfbe88')\"\n",
              "            title=\"Convert this dataframe to an interactive table.\"\n",
              "            style=\"display:none;\">\n",
              "\n",
              "  <svg xmlns=\"http://www.w3.org/2000/svg\" height=\"24px\" viewBox=\"0 -960 960 960\">\n",
              "    <path d=\"M120-120v-720h720v720H120Zm60-500h600v-160H180v160Zm220 220h160v-160H400v160Zm0 220h160v-160H400v160ZM180-400h160v-160H180v160Zm440 0h160v-160H620v160ZM180-180h160v-160H180v160Zm440 0h160v-160H620v160Z\"/>\n",
              "  </svg>\n",
              "    </button>\n",
              "\n",
              "  <style>\n",
              "    .colab-df-container {\n",
              "      display:flex;\n",
              "      gap: 12px;\n",
              "    }\n",
              "\n",
              "    .colab-df-convert {\n",
              "      background-color: #E8F0FE;\n",
              "      border: none;\n",
              "      border-radius: 50%;\n",
              "      cursor: pointer;\n",
              "      display: none;\n",
              "      fill: #1967D2;\n",
              "      height: 32px;\n",
              "      padding: 0 0 0 0;\n",
              "      width: 32px;\n",
              "    }\n",
              "\n",
              "    .colab-df-convert:hover {\n",
              "      background-color: #E2EBFA;\n",
              "      box-shadow: 0px 1px 2px rgba(60, 64, 67, 0.3), 0px 1px 3px 1px rgba(60, 64, 67, 0.15);\n",
              "      fill: #174EA6;\n",
              "    }\n",
              "\n",
              "    .colab-df-buttons div {\n",
              "      margin-bottom: 4px;\n",
              "    }\n",
              "\n",
              "    [theme=dark] .colab-df-convert {\n",
              "      background-color: #3B4455;\n",
              "      fill: #D2E3FC;\n",
              "    }\n",
              "\n",
              "    [theme=dark] .colab-df-convert:hover {\n",
              "      background-color: #434B5C;\n",
              "      box-shadow: 0px 1px 3px 1px rgba(0, 0, 0, 0.15);\n",
              "      filter: drop-shadow(0px 1px 2px rgba(0, 0, 0, 0.3));\n",
              "      fill: #FFFFFF;\n",
              "    }\n",
              "  </style>\n",
              "\n",
              "    <script>\n",
              "      const buttonEl =\n",
              "        document.querySelector('#df-c1f7be8f-9a1b-4010-857e-9c9ee2bfbe88 button.colab-df-convert');\n",
              "      buttonEl.style.display =\n",
              "        google.colab.kernel.accessAllowed ? 'block' : 'none';\n",
              "\n",
              "      async function convertToInteractive(key) {\n",
              "        const element = document.querySelector('#df-c1f7be8f-9a1b-4010-857e-9c9ee2bfbe88');\n",
              "        const dataTable =\n",
              "          await google.colab.kernel.invokeFunction('convertToInteractive',\n",
              "                                                    [key], {});\n",
              "        if (!dataTable) return;\n",
              "\n",
              "        const docLinkHtml = 'Like what you see? Visit the ' +\n",
              "          '<a target=\"_blank\" href=https://colab.research.google.com/notebooks/data_table.ipynb>data table notebook</a>'\n",
              "          + ' to learn more about interactive tables.';\n",
              "        element.innerHTML = '';\n",
              "        dataTable['output_type'] = 'display_data';\n",
              "        await google.colab.output.renderOutput(dataTable, element);\n",
              "        const docLink = document.createElement('div');\n",
              "        docLink.innerHTML = docLinkHtml;\n",
              "        element.appendChild(docLink);\n",
              "      }\n",
              "    </script>\n",
              "  </div>\n",
              "\n",
              "\n",
              "    </div>\n",
              "  </div>\n"
            ],
            "application/vnd.google.colaboratory.intrinsic+json": {
              "type": "dataframe",
              "summary": "{\n  \"name\": \"df1[df1['ID']=='TEST_4982']\",\n  \"rows\": 1,\n  \"fields\": [\n    {\n      \"column\": \"ID\",\n      \"properties\": {\n        \"dtype\": \"string\",\n        \"num_unique_values\": 1,\n        \"samples\": [\n          \"TEST_4982\"\n        ],\n        \"semantic_type\": \"\",\n        \"description\": \"\"\n      }\n    },\n    {\n      \"column\": \"y\",\n      \"properties\": {\n        \"dtype\": \"number\",\n        \"std\": null,\n        \"min\": 90.91187991889576,\n        \"max\": 90.91187991889576,\n        \"num_unique_values\": 1,\n        \"samples\": [\n          90.91187991889576\n        ],\n        \"semantic_type\": \"\",\n        \"description\": \"\"\n      }\n    }\n  ]\n}"
            }
          },
          "metadata": {},
          "execution_count": 21
        }
      ]
    },
    {
      "cell_type": "code",
      "source": [
        "df1.loc[df1['ID'] == 'TEST_2632', 'y'] = 95.91188\n",
        "df1.to_csv(\"/content/drive/MyDrive/dacon/2024_8_data/submission/FE6_stacking_submission.csv\", index=False)\n"
      ],
      "metadata": {
        "id": "i2PKoi5JjnJ7"
      },
      "execution_count": null,
      "outputs": []
    }
  ]
}