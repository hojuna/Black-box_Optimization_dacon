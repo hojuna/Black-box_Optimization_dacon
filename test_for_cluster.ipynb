{
  "nbformat": 4,
  "nbformat_minor": 0,
  "metadata": {
    "colab": {
      "provenance": [],
      "machine_shape": "hm",
      "authorship_tag": "ABX9TyMuIMrr4lpr80qmYFlYoQvu",
      "include_colab_link": true
    },
    "kernelspec": {
      "name": "python3",
      "display_name": "Python 3"
    },
    "language_info": {
      "name": "python"
    }
  },
  "cells": [
    {
      "cell_type": "markdown",
      "metadata": {
        "id": "view-in-github",
        "colab_type": "text"
      },
      "source": [
        "<a href=\"https://colab.research.google.com/github/hojuna/Black-box_Optimization_dacon/blob/main/test_for_cluster.ipynb\" target=\"_parent\"><img src=\"https://colab.research.google.com/assets/colab-badge.svg\" alt=\"Open In Colab\"/></a>"
      ]
    },
    {
      "cell_type": "markdown",
      "source": [
        "\n",
        "\n",
        "# 클러스터링 실험\n",
        "\n",
        "x_6을 y값의 평균의 차이가 최소가 되도록 두 파트로 분리하였음\n",
        "\n",
        "Cross-validation MSE: 2.9398 (+/- 1.0186)\n",
        "\n",
        "Cross-validation_0 MSE: 2.8931 (+/- 1.7835)\n",
        "\n",
        "Cross-validation MSE: 3.2631 (+/- 0.1781)\n",
        "\n",
        "\n",
        "=KernelRidge: 0.8778054862842892 val_score 다 똑같이 나와서 함수를 잘 못만든거진지 흠 잘 모르겠음\n",
        "\n",
        "그래서 Cross-validation로 평가 줬는데 이게 의미가 있는지는 모르겠다.\n"
      ],
      "metadata": {
        "id": "Y8xlvHh1asmm"
      }
    },
    {
      "cell_type": "code",
      "execution_count": null,
      "metadata": {
        "colab": {
          "base_uri": "https://localhost:8080/"
        },
        "id": "O1NSoiE5x58y",
        "outputId": "d82e4625-4c83-4abf-82b7-d138a3b23fbe"
      },
      "outputs": [
        {
          "output_type": "stream",
          "name": "stdout",
          "text": [
            "Drive already mounted at /content/drive; to attempt to forcibly remount, call drive.mount(\"/content/drive\", force_remount=True).\n"
          ]
        }
      ],
      "source": [
        "from google.colab import drive\n",
        "drive.mount('/content/drive')"
      ]
    },
    {
      "cell_type": "code",
      "execution_count": null,
      "metadata": {
        "id": "w-yOjZNqAZcW"
      },
      "outputs": [],
      "source": [
        "import pandas as pd\n",
        "import matplotlib.pyplot as plt\n",
        "import seaborn as sns\n",
        "\n",
        "# Load the data\n",
        "train_df_org = pd.read_csv('/content/drive/MyDrive/dacon/2024_8_data/train.csv')\n",
        "test_df = pd.read_csv('/content/drive/MyDrive/dacon/2024_8_data/test.csv')\n",
        "\n"
      ]
    },
    {
      "cell_type": "code",
      "execution_count": null,
      "metadata": {
        "colab": {
          "base_uri": "https://localhost:8080/"
        },
        "id": "67OT0B6KgLCJ",
        "outputId": "d10e9e1d-394b-4449-bb05-0706921c884c"
      },
      "outputs": [
        {
          "output_type": "stream",
          "name": "stdout",
          "text": [
            "0.48833593129836433\n",
            "best_result: -0.07399123913221217\n",
            "best_0_y_mean: 83.62862110751404\n",
            "best_1_y_mean: 83.70261234664625\n",
            "best_i: 34924\n"
          ]
        }
      ],
      "source": [
        "import pandas as pd\n",
        "import numpy as np\n",
        "import matplotlib.pyplot as plt\n",
        "\n",
        "\n",
        "#x_6 min 0.4637835200953135\n",
        "#x_6 max 0.5850860627079832\n",
        "#x_6 mean 0.48833593129836433\n",
        "\n",
        "print(  train_df_org['x_6'].mean())\n",
        "\n",
        "df_sorted = train_df_org.sort_values(by='x_6', ascending=True)\n",
        "\n",
        "part_1=df_sorted['y'][0]\n",
        "part_2=train_df_org['y'].sum()-part_1\n",
        "\n",
        "len_df_sorted=len(df_sorted)\n",
        "\n",
        "result=1000\n",
        "best_0_y_mean=0\n",
        "best_1_y_mean=0\n",
        "best_i=0\n",
        "for i in range(1, len_df_sorted):\n",
        "  part_1+=df_sorted['y'][i]\n",
        "  part_2-=df_sorted['y'][i]\n",
        "  temp=part_1/i-part_2/(len_df_sorted-i)\n",
        "  if temp<result:\n",
        "    best_i=i\n",
        "    result=temp\n",
        "    best_0_y_mean=part_1/i\n",
        "    best_1_y_mean=part_2/(len_df_sorted-i)\n",
        "\n",
        "print(f\"best_result: {result}\")\n",
        "print(f\"best_0_y_mean: {best_0_y_mean}\")\n",
        "print(f\"best_1_y_mean: {best_1_y_mean}\")\n",
        "print(f\"best_i: {best_i}\")"
      ]
    },
    {
      "cell_type": "code",
      "source": [
        "df_sorted['x_6'][34924]"
      ],
      "metadata": {
        "colab": {
          "base_uri": "https://localhost:8080/"
        },
        "id": "fvqwbjYZ1Flj",
        "outputId": "9b051bf8-585d-4062-899c-cd1ba18f5e00"
      },
      "execution_count": null,
      "outputs": [
        {
          "output_type": "execute_result",
          "data": {
            "text/plain": [
              "0.4936684498236188"
            ]
          },
          "metadata": {},
          "execution_count": 24
        }
      ]
    },
    {
      "cell_type": "code",
      "source": [],
      "metadata": {
        "id": "XDrlCNzi7TR1"
      },
      "execution_count": null,
      "outputs": []
    },
    {
      "cell_type": "code",
      "execution_count": null,
      "metadata": {
        "id": "XiLhS8tuofh0"
      },
      "outputs": [],
      "source": [
        "df_shuffled= train_df_org\n",
        "# 균등하게 나누기 위해 임의로 데이터를 8:2로 분할\n",
        "split_index = int(len(df_shuffled) * 0.8)\n",
        "train_df, valiation_df = df_shuffled[:split_index], df_shuffled[split_index:]\n"
      ]
    },
    {
      "cell_type": "code",
      "source": [
        "mean_result= df_sorted['x_6'][best_i]\n",
        "train_df['cluster'] = np.where(train_df['x_6'] <= mean_result, 0, 1)"
      ],
      "metadata": {
        "colab": {
          "base_uri": "https://localhost:8080/"
        },
        "id": "FxGCh1_Iwn6w",
        "outputId": "d719a706-d3d0-4f46-959a-2cfb88ff5a70"
      },
      "execution_count": null,
      "outputs": [
        {
          "output_type": "stream",
          "name": "stderr",
          "text": [
            "<ipython-input-26-277ceb9bd006>:2: SettingWithCopyWarning: \n",
            "A value is trying to be set on a copy of a slice from a DataFrame.\n",
            "Try using .loc[row_indexer,col_indexer] = value instead\n",
            "\n",
            "See the caveats in the documentation: https://pandas.pydata.org/pandas-docs/stable/user_guide/indexing.html#returning-a-view-versus-a-copy\n",
            "  train_df['cluster'] = np.where(train_df['x_6'] <= mean_result, 0, 1)\n"
          ]
        }
      ]
    },
    {
      "cell_type": "code",
      "source": [
        "# 색상 설정\n",
        "colors = {0: 'red', 1: 'blue'}\n",
        "\n",
        "# 히스토그램 그리기\n",
        "plt.figure(figsize=(10, 6))\n",
        "for cluster in train_df['cluster'].unique():\n",
        "    subset = train_df[train_df['cluster'] == cluster]\n",
        "    plt.hist(subset['x_6'], bins=10, alpha=0.7, color=colors[cluster], label=f'Cluster {cluster}')\n",
        "\n",
        "plt.xlabel('x_6')\n",
        "plt.ylabel('Frequency')\n",
        "plt.title('Histogram of x_6 by x_6_cluster')\n",
        "plt.legend(title='x_6_cluster')\n",
        "plt.grid(axis='y', linestyle='--', alpha=0.7)\n",
        "plt.show()\n"
      ],
      "metadata": {
        "colab": {
          "base_uri": "https://localhost:8080/",
          "height": 564
        },
        "id": "p-SqOTA_wn9V",
        "outputId": "50b8aaab-12a8-4c86-dd56-59da2c7cd3f3"
      },
      "execution_count": null,
      "outputs": [
        {
          "output_type": "display_data",
          "data": {
            "text/plain": [
              "<Figure size 1000x600 with 1 Axes>"
            ],
            "image/png": "[encoded data removed]"
          },
          "metadata": {}
        }
      ]
    },
    {
      "cell_type": "code",
      "source": [
        "train_df_cluster_0 = train_df[train_df['cluster'] == 0].drop(columns=['cluster'])\n",
        "train_df_cluster_1 = train_df[train_df['cluster'] == 1].drop(columns=['cluster'])"
      ],
      "metadata": {
        "id": "0O57K4jmwn_4"
      },
      "execution_count": null,
      "outputs": []
    },
    {
      "cell_type": "code",
      "source": [],
      "metadata": {
        "id": "h1TUIPoQwoCl"
      },
      "execution_count": null,
      "outputs": []
    },
    {
      "cell_type": "code",
      "source": [
        "\n",
        "def val_score(model_k, valiation_df):\n",
        "  id_y=pd.DataFrame()\n",
        "\n",
        "  top_5_percent_valiation_df = valiation_df.sort_values(by='y').reset_index(drop=True)[-int(0.05 * len(valiation_df)):]\n",
        "  #id만 분리 valiation_df, y값 제거\n",
        "  X = valiation_df.iloc[:, 1:-1]\n",
        "  id_y['ID']=valiation_df.iloc[:,0]\n",
        "\n",
        "  #valiation_df y값 예측\n",
        "  y_pred=model_k.predict(X)\n",
        "  id_y['y_pred']=y_pred\n",
        "\n",
        "  # print(id_x.head)\n",
        "  # #id 복원\n",
        "\n",
        "  #상위 10% valiation_df 구하기\n",
        "  top_10_percent_pred_valiation=id_y.sort_values(by='y_pred').reset_index(drop=True)[-int(0.10 * len(id_y)):]\n",
        "\n",
        "  # ID 값에서 공백 제거\n",
        "  top_5_percent_valiation_df['ID'] = top_5_percent_valiation_df['ID'].str.strip()\n",
        "  top_10_percent_pred_valiation['ID'] = top_10_percent_pred_valiation['ID'].str.strip()\n",
        "\n",
        "  #top_5_percent_valiation_df 중  상위 10%에 포함되는 비율을 구해서 반환\n",
        "  return top_5_percent_valiation_df['ID'].isin(top_10_percent_pred_valiation['ID']).sum()/len(top_5_percent_valiation_df)"
      ],
      "metadata": {
        "id": "YHSDcCsm3O4h"
      },
      "execution_count": null,
      "outputs": []
    },
    {
      "cell_type": "code",
      "source": [
        "X = train_df.iloc[:, 1:-2]  # Features\n",
        "y = train_df['y']  # Target\n",
        "\n",
        "\n",
        "X_0 = train_df_cluster_0.iloc[:, 1:-1]  # Features\n",
        "y_0 = train_df_cluster_0['y']  # Target\n",
        "\n",
        "\n",
        "X_1 = train_df_cluster_1.iloc[:, 1:-1]  # Features\n",
        "y_1 = train_df_cluster_1['y']  # Target"
      ],
      "metadata": {
        "id": "ISs65-lwopKq"
      },
      "execution_count": null,
      "outputs": []
    },
    {
      "cell_type": "code",
      "source": [
        "X.info()"
      ],
      "metadata": {
        "colab": {
          "base_uri": "https://localhost:8080/"
        },
        "id": "2B_EtC_DwoFN",
        "outputId": "c7e64061-a9da-4d70-984c-b7e8d7720244"
      },
      "execution_count": null,
      "outputs": [
        {
          "output_type": "stream",
          "name": "stdout",
          "text": [
            "<class 'pandas.core.frame.DataFrame'>\n",
            "RangeIndex: 32094 entries, 0 to 32093\n",
            "Data columns (total 11 columns):\n",
            " #   Column  Non-Null Count  Dtype  \n",
            "---  ------  --------------  -----  \n",
            " 0   x_0     32094 non-null  float64\n",
            " 1   x_1     32094 non-null  float64\n",
            " 2   x_2     32094 non-null  float64\n",
            " 3   x_3     32094 non-null  float64\n",
            " 4   x_4     32094 non-null  float64\n",
            " 5   x_5     32094 non-null  float64\n",
            " 6   x_6     32094 non-null  float64\n",
            " 7   x_7     32094 non-null  float64\n",
            " 8   x_8     32094 non-null  float64\n",
            " 9   x_9     32094 non-null  float64\n",
            " 10  x_10    32094 non-null  float64\n",
            "dtypes: float64(11)\n",
            "memory usage: 2.7 MB\n"
          ]
        }
      ]
    },
    {
      "cell_type": "code",
      "source": [
        "from sklearn.kernel_ridge import KernelRidge\n",
        "\n",
        "\n",
        "model = KernelRidge(kernel='rbf')\n",
        "model.fit(X,y)\n",
        "score=val_score(model,valiation_df)\n",
        "print(\"KernelRidge:\" , score)\n",
        "\n",
        "\n",
        "model_0 = KernelRidge(kernel='rbf')\n",
        "model_0.fit(X_0,y_0)\n",
        "score=val_score(model_0,valiation_df)\n",
        "print(\"model_0_KernelRidge:\" , score)\n",
        "\n",
        "model_1 = KernelRidge(kernel='rbf')\n",
        "model_1.fit(X_1,y_1)\n",
        "score=val_score(model_1,valiation_df)\n",
        "print(\"model_1_KernelRidge:\" , score)"
      ],
      "metadata": {
        "colab": {
          "base_uri": "https://localhost:8080/"
        },
        "id": "r5Yw2n4Plbtn",
        "outputId": "8705bf16-2123-44fd-a997-4ff7d46f894a"
      },
      "execution_count": null,
      "outputs": [
        {
          "output_type": "stream",
          "name": "stdout",
          "text": [
            "KernelRidge: 0.8778054862842892\n",
            "model_0_KernelRidge: 0.8778054862842892\n",
            "model_1_KernelRidge: 0.8778054862842892\n"
          ]
        }
      ]
    },
    {
      "cell_type": "code",
      "source": [
        "score=val_score(model,valiation_df)\n",
        "print(\"KernelRidge:\" , score)\n",
        "\n",
        "score=val_score(model_0,valiation_df)\n",
        "print(\"model_0_KernelRidge:\" , score)\n",
        "\n",
        "score=val_score(model_1,valiation_df)\n",
        "print(\"model_1_KernelRidge:\" , score)"
      ],
      "metadata": {
        "colab": {
          "base_uri": "https://localhost:8080/"
        },
        "id": "4V2eF1WrH-Co",
        "outputId": "a92e39f5-c006-43f7-f4fc-4d84175c2788"
      },
      "execution_count": null,
      "outputs": [
        {
          "output_type": "stream",
          "name": "stdout",
          "text": [
            "KernelRidge: 0.8778054862842892\n",
            "model_0_KernelRidge: 0.8778054862842892\n",
            "model_1_KernelRidge: 0.8778054862842892\n"
          ]
        }
      ]
    },
    {
      "cell_type": "code",
      "source": [],
      "metadata": {
        "id": "O3Aq-WQtLLbT"
      },
      "execution_count": null,
      "outputs": []
    },
    {
      "cell_type": "code",
      "source": [
        "from sklearn.model_selection import cross_val_score\n",
        "\n",
        "cv_scores = cross_val_score(model, X, y, cv=5, scoring='neg_mean_squared_error')\n",
        "print(f\"Cross-validation MSE: {-cv_scores.mean():.4f} (+/- {cv_scores.std() * 2:.4f})\")\n",
        "cv_scores_0 = cross_val_score(model_0, X_0, y_0, cv=5, scoring='neg_mean_squared_error')\n",
        "print(f\"Cross-validation_0 MSE: {-cv_scores_0.mean():.4f} (+/- {cv_scores_0.std() * 2:.4f})\")\n",
        "cv_scores_1 = cross_val_score(model_1, X_1, y_1, cv=5, scoring='neg_mean_squared_error')\n",
        "print(f\"Cross-validation MSE: {-cv_scores_1.mean():.4f} (+/- {cv_scores_1.std() * 2:.4f})\")"
      ],
      "metadata": {
        "colab": {
          "base_uri": "https://localhost:8080/"
        },
        "id": "TtHxRKH1woIN",
        "outputId": "f788a8f2-d15f-4861-bece-b82979155a08"
      },
      "execution_count": null,
      "outputs": [
        {
          "output_type": "stream",
          "name": "stdout",
          "text": [
            "Cross-validation MSE: 2.9398 (+/- 1.0186)\n",
            "Cross-validation_0 MSE: 2.8931 (+/- 1.7835)\n",
            "Cross-validation MSE: 3.2631 (+/- 0.1781)\n"
          ]
        }
      ]
    },
    {
      "cell_type": "code",
      "source": [],
      "metadata": {
        "id": "ddYVGjzJ_QL4"
      },
      "execution_count": null,
      "outputs": []
    }
  ]
}