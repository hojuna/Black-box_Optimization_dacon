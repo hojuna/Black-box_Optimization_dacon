{
  "nbformat": 4,
  "nbformat_minor": 0,
  "metadata": {
    "colab": {
      "provenance": [],
      "machine_shape": "hm",
      "authorship_tag": "ABX9TyPCrxxH4tA2whEPhizIgLIU",
      "include_colab_link": true
    },
    "kernelspec": {
      "name": "python3",
      "display_name": "Python 3"
    },
    "language_info": {
      "name": "python"
    }
  },
  "cells": [
    {
      "cell_type": "markdown",
      "metadata": {
        "id": "view-in-github",
        "colab_type": "text"
      },
      "source": [
        "<a href=\"https://colab.research.google.com/github/hojuna/Black-box_Optimization_dacon/blob/main/search_model.ipynb\" target=\"_parent\"><img src=\"https://colab.research.google.com/assets/colab-badge.svg\" alt=\"Open In Colab\"/></a>"
      ]
    },
    {
      "cell_type": "code",
      "execution_count": null,
      "metadata": {
        "colab": {
          "base_uri": "https://localhost:8080/"
        },
        "id": "7Ryle_3qX2wW",
        "outputId": "e3716977-60fd-4999-a10c-96517f1181d3"
      },
      "outputs": [
        {
          "output_type": "stream",
          "name": "stdout",
          "text": [
            "Mounted at /content/drive\n"
          ]
        }
      ],
      "source": [
        "from google.colab import drive\n",
        "drive.mount('/content/drive')"
      ]
    },
    {
      "cell_type": "code",
      "source": [
        "import pandas as pd\n",
        "import numpy as np\n",
        "import joblib\n",
        "import os\n",
        "from sklearn.ensemble import RandomForestRegressor\n",
        "from sklearn.model_selection import GridSearchCV,cross_val_score\n",
        "from sklearn.model_selection import RandomizedSearchCV\n",
        "\n",
        "\n",
        "# Load the data\n",
        "train_df_org = pd.read_csv('/content/drive/MyDrive/dacon/2024_8_data/train.csv')\n",
        "test_df = pd.read_csv('/content/drive/MyDrive/dacon/2024_8_data/test.csv')"
      ],
      "metadata": {
        "id": "L12gEbzVYA7Q"
      },
      "execution_count": null,
      "outputs": []
    },
    {
      "cell_type": "code",
      "execution_count": null,
      "metadata": {
        "id": "XiLhS8tuofh0"
      },
      "outputs": [],
      "source": [
        "df_shuffled= train_df_org\n",
        "# 균등하게 나누기 위해 임의로 데이터를 8:2로 분할\n",
        "split_index = int(len(df_shuffled) * 0.8)\n",
        "train_df, valiation_df = df_shuffled[:split_index], df_shuffled[split_index:]\n"
      ]
    },
    {
      "cell_type": "code",
      "source": [
        "\n",
        "def val_score(model, valiation_df):\n",
        "  id_y=pd.DataFrame()\n",
        "\n",
        "  top_5_percent_valiation_df = valiation_df.sort_values(by='y').reset_index(drop=True)[-int(0.05 * len(valiation_df)):]\n",
        "  #id만 분리 valiation_df, y값 제거\n",
        "  X = valiation_df.iloc[:, 1:-1]\n",
        "  id_y['ID']=valiation_df.iloc[:,0]\n",
        "\n",
        "  #valiation_df y값 예측\n",
        "  y_pred=model.predict(X)\n",
        "  id_y['y_pred']=y_pred\n",
        "\n",
        "  # print(id_x.head)\n",
        "  # #id 복원\n",
        "\n",
        "  #상위 10% valiation_df 구하기\n",
        "  top_10_percent_pred_valiation=id_y.sort_values(by='y_pred').reset_index(drop=True)[-int(0.10 * len(id_y)):]\n",
        "\n",
        "  # ID 값에서 공백 제거\n",
        "  top_5_percent_valiation_df['ID'] = top_5_percent_valiation_df['ID'].str.strip()\n",
        "  top_10_percent_pred_valiation['ID'] = top_10_percent_pred_valiation['ID'].str.strip()\n",
        "\n",
        "  #top_5_percent_valiation_df 중  상위 10%에 포함되는 비율을 구해서 반환\n",
        "  return top_5_percent_valiation_df['ID'].isin(top_10_percent_pred_valiation['ID']).sum()/len(top_5_percent_valiation_df)"
      ],
      "metadata": {
        "id": "YHSDcCsm3O4h"
      },
      "execution_count": null,
      "outputs": []
    },
    {
      "cell_type": "code",
      "source": [],
      "metadata": {
        "id": "1UkkUTJadvbf"
      },
      "execution_count": null,
      "outputs": []
    },
    {
      "cell_type": "code",
      "source": [
        "\n",
        "X = train_df.iloc[:, 1:-1]  # Features\n",
        "y = train_df['y']  # Target"
      ],
      "metadata": {
        "id": "ISs65-lwopKq"
      },
      "execution_count": null,
      "outputs": []
    },
    {
      "cell_type": "markdown",
      "source": [],
      "metadata": {
        "id": "JU4YiNG93AfE"
      }
    },
    {
      "cell_type": "code",
      "source": [
        "# #RandomForestRegressor\n",
        "# # Train model\n",
        "# RandomForestRegressor_model = RandomForestRegressor(n_estimators=300, random_state=42)\n",
        "# RandomForestRegressor_model.fit(X, y)\n",
        "# score=val_score(RandomForestRegressor_model,valiation_df)\n",
        "# print(\"RandomForestRegressor_model:\" , score)"
      ],
      "metadata": {
        "id": "7KVVLXBoewgK"
      },
      "execution_count": null,
      "outputs": []
    },
    {
      "cell_type": "code",
      "source": [
        "from sklearn.linear_model import LinearRegression\n",
        "\n",
        "# 모델 초기화\n",
        "model = LinearRegression()\n",
        "\n",
        "# 모델 학습\n",
        "model.fit(X, y)\n",
        "\n",
        "score=val_score(model,valiation_df)\n",
        "print(\"LinearRegression:\" ,score)\n",
        "# LinearRegression: 0.8753117206982544"
      ],
      "metadata": {
        "colab": {
          "base_uri": "https://localhost:8080/"
        },
        "id": "X4M9K1vYgnYk",
        "outputId": "0b82f129-650d-499b-91df-6657528887fd"
      },
      "execution_count": null,
      "outputs": [
        {
          "output_type": "stream",
          "name": "stdout",
          "text": [
            "LinearRegression: 0.8753117206982544\n"
          ]
        }
      ]
    },
    {
      "cell_type": "code",
      "source": [
        "from sklearn.linear_model import Ridge\n",
        "\n",
        "# 모델 초기화\n",
        "model = Ridge(alpha=1.0)\n",
        "\n",
        "# 모델 학습\n",
        "model.fit(X, y)\n",
        "\n",
        "score=val_score(model,valiation_df)\n",
        "print(\"Ridge:\" , score)\n"
      ],
      "metadata": {
        "colab": {
          "base_uri": "https://localhost:8080/"
        },
        "id": "YsLkPMm5gnp_",
        "outputId": "c4bbd6fe-1b93-4a40-9761-7d13c97313f2"
      },
      "execution_count": null,
      "outputs": [
        {
          "output_type": "stream",
          "name": "stdout",
          "text": [
            "Ridge: 0.8753117206982544\n"
          ]
        }
      ]
    },
    {
      "cell_type": "code",
      "source": [
        "from sklearn.linear_model import Lasso\n",
        "\n",
        "# 모델 초기화\n",
        "model = Lasso(alpha=0.1)\n",
        "\n",
        "# 모델 학습\n",
        "model.fit(X, y)\n",
        "\n",
        "score=val_score(model,valiation_df)\n",
        "print(\"Lasso:\" , score)\n"
      ],
      "metadata": {
        "colab": {
          "base_uri": "https://localhost:8080/"
        },
        "id": "nttrpdQBgnyq",
        "outputId": "89822e0f-9f54-44f0-d075-f011fb47b163"
      },
      "execution_count": null,
      "outputs": [
        {
          "output_type": "stream",
          "name": "stdout",
          "text": [
            "Lasso: 0.8528678304239401\n"
          ]
        }
      ]
    },
    {
      "cell_type": "code",
      "source": [
        "from sklearn.linear_model import ElasticNet\n",
        "\n",
        "# 모델 초기화\n",
        "model = ElasticNet(alpha=0.1, l1_ratio=0.5)\n",
        "\n",
        "# 모델 학습\n",
        "model.fit(X, y)\n",
        "\n",
        "score=val_score(model,valiation_df)\n",
        "print(\"ElasticNet:\" , score)\n"
      ],
      "metadata": {
        "colab": {
          "base_uri": "https://localhost:8080/"
        },
        "id": "3n4FHMycgn6W",
        "outputId": "e6a57c45-02c4-4f22-c014-ac5f92c5a9ae"
      },
      "execution_count": null,
      "outputs": [
        {
          "output_type": "stream",
          "name": "stdout",
          "text": [
            "ElasticNet: 0.8528678304239401\n"
          ]
        }
      ]
    },
    {
      "cell_type": "code",
      "source": [
        "from sklearn.tree import DecisionTreeRegressor\n",
        "\n",
        "# 모델 초기화\n",
        "model = DecisionTreeRegressor()\n",
        "\n",
        "# 모델 학습\n",
        "model.fit(X, y)\n",
        "\n",
        "score=val_score(model,valiation_df)\n",
        "print(\"DecisionTreeRegressor:\" , score)\n"
      ],
      "metadata": {
        "colab": {
          "base_uri": "https://localhost:8080/"
        },
        "id": "SpvjDgkkgoCC",
        "outputId": "11e13e5e-3435-4040-8a5d-f16661c96eaa"
      },
      "execution_count": null,
      "outputs": [
        {
          "output_type": "stream",
          "name": "stdout",
          "text": [
            "DecisionTreeRegressor: 0.7780548628428927\n"
          ]
        }
      ]
    },
    {
      "cell_type": "code",
      "source": [
        "from sklearn.ensemble import RandomForestRegressor\n",
        "\n",
        "# 모델 초기화\n",
        "model = RandomForestRegressor(n_estimators=100)\n",
        "\n",
        "# 모델 학습\n",
        "model.fit(X, y)\n",
        "\n",
        "score=val_score(model,valiation_df)\n",
        "print(\"RandomForestRegressor_model:\" , score)\n"
      ],
      "metadata": {
        "colab": {
          "base_uri": "https://localhost:8080/"
        },
        "id": "SHPLcfu2goJL",
        "outputId": "6a98e732-0645-44cc-ced8-d199f2b85a14"
      },
      "execution_count": null,
      "outputs": [
        {
          "output_type": "stream",
          "name": "stdout",
          "text": [
            "RandomForestRegressor_model: 0.8703241895261845\n"
          ]
        }
      ]
    },
    {
      "cell_type": "code",
      "source": [
        "from sklearn.ensemble import GradientBoostingRegressor\n",
        "\n",
        "# 모델 초기화\n",
        "model = GradientBoostingRegressor(n_estimators=100)\n",
        "\n",
        "# 모델 학습\n",
        "model.fit(X, y)\n",
        "\n",
        "score=val_score(model,valiation_df)\n",
        "print(\"GradientBoostingRegressor:\" , score)\n"
      ],
      "metadata": {
        "colab": {
          "base_uri": "https://localhost:8080/"
        },
        "id": "8KnASeXlgoQs",
        "outputId": "65fe2dbc-905b-4cc5-89cc-05d41780947e"
      },
      "execution_count": null,
      "outputs": [
        {
          "output_type": "stream",
          "name": "stdout",
          "text": [
            "GradientBoostingRegressor: 0.8728179551122195\n"
          ]
        }
      ]
    },
    {
      "cell_type": "code",
      "source": [
        "from xgboost import XGBRegressor\n",
        "\n",
        "# 모델 초기화\n",
        "model = XGBRegressor(n_estimators=100)\n",
        "\n",
        "# 모델 학습\n",
        "model.fit(X, y)\n",
        "\n",
        "score=val_score(model,valiation_df)\n",
        "print(\"XGBRegressor:\" , score)\n"
      ],
      "metadata": {
        "colab": {
          "base_uri": "https://localhost:8080/"
        },
        "id": "pYPrZTIago2q",
        "outputId": "31c732ed-49eb-4788-b7bb-a236babfdc9e"
      },
      "execution_count": null,
      "outputs": [
        {
          "output_type": "stream",
          "name": "stdout",
          "text": [
            "XGBRegressor: 0.8628428927680798\n"
          ]
        }
      ]
    },
    {
      "cell_type": "code",
      "source": [
        "from lightgbm import LGBMRegressor\n",
        "\n",
        "# 모델 초기화\n",
        "model = LGBMRegressor(n_estimators=100)\n",
        "\n",
        "# 모델 학습\n",
        "model.fit(X, y)\n",
        "\n",
        "score=val_score(model,valiation_df)\n",
        "print(\"LGBMRegressor:\" , score)"
      ],
      "metadata": {
        "colab": {
          "base_uri": "https://localhost:8080/"
        },
        "id": "cnjFuzU2go5X",
        "outputId": "135c3959-348d-4fc2-baf8-41696297dd49"
      },
      "execution_count": null,
      "outputs": [
        {
          "output_type": "stream",
          "name": "stderr",
          "text": [
            "/usr/local/lib/python3.10/dist-packages/dask/dataframe/__init__.py:42: FutureWarning: \n",
            "Dask dataframe query planning is disabled because dask-expr is not installed.\n",
            "\n",
            "You can install it with `pip install dask[dataframe]` or `conda install dask`.\n",
            "This will raise in a future version.\n",
            "\n",
            "  warnings.warn(msg, FutureWarning)\n"
          ]
        },
        {
          "output_type": "stream",
          "name": "stdout",
          "text": [
            "[LightGBM] [Info] Auto-choosing col-wise multi-threading, the overhead of testing was 0.001575 seconds.\n",
            "You can set `force_col_wise=true` to remove the overhead.\n",
            "[LightGBM] [Info] Total Bins 2805\n",
            "[LightGBM] [Info] Number of data points in the train set: 32094, number of used features: 11\n",
            "[LightGBM] [Info] Start training from score 83.626803\n",
            "LGBMRegressor: 0.8728179551122195\n"
          ]
        }
      ]
    },
    {
      "cell_type": "code",
      "source": [
        "# from catboost import CatBoostRegressor\n",
        "\n",
        "# # 모델 초기화\n",
        "# model = CatBoostRegressor(iterations=100, verbose=0)\n",
        "\n",
        "# # 모델 학습\n",
        "# model.fit(X, y)\n",
        "\n",
        "# score=val_score(model,valiation_df)\n",
        "# print(\"CatBoostRegressor:\" , score)\n"
      ],
      "metadata": {
        "id": "JPmBimWNgo8Y"
      },
      "execution_count": null,
      "outputs": []
    },
    {
      "cell_type": "code",
      "source": [
        "from sklearn.svm import SVR\n",
        "\n",
        "# 모델 초기화\n",
        "model = SVR(kernel='rbf')\n",
        "\n",
        "# 모델 학습\n",
        "model.fit(X, y)\n",
        "\n",
        "score=val_score(model,valiation_df)\n",
        "print(\"SVR:\" , score)\n"
      ],
      "metadata": {
        "colab": {
          "base_uri": "https://localhost:8080/"
        },
        "id": "Kn6BxHtWgo_e",
        "outputId": "a4a20344-6b50-417c-9fcd-d3c545f3e4d5"
      },
      "execution_count": null,
      "outputs": [
        {
          "output_type": "stream",
          "name": "stdout",
          "text": [
            "SVR: 0.8653366583541147\n"
          ]
        }
      ]
    },
    {
      "cell_type": "code",
      "source": [
        "from sklearn.neighbors import KNeighborsRegressor\n",
        "\n",
        "# 모델 초기화\n",
        "model = KNeighborsRegressor(n_neighbors=5)\n",
        "\n",
        "# 모델 학습\n",
        "model.fit(X, y)\n",
        "\n",
        "# 예측\n",
        "score=val_score(model,valiation_df)\n",
        "print(\"KNeighborsRegressor:\" , score)\n",
        "\n"
      ],
      "metadata": {
        "colab": {
          "base_uri": "https://localhost:8080/"
        },
        "id": "Q1DMQBajgpCS",
        "outputId": "7ac9eb43-7bb9-4809-8057-20b4e856430b"
      },
      "execution_count": null,
      "outputs": [
        {
          "output_type": "stream",
          "name": "stdout",
          "text": [
            "KNeighborsRegressor: 0.8503740648379052\n"
          ]
        }
      ]
    },
    {
      "cell_type": "code",
      "source": [
        "from sklearn.neural_network import MLPRegressor\n",
        "\n",
        "# 모델 초기화\n",
        "model = MLPRegressor(hidden_layer_sizes=(100,), max_iter=500)\n",
        "\n",
        "# 모델 학습\n",
        "model.fit(X, y)\n",
        "\n",
        "score=val_score(model,valiation_df)\n",
        "print(\"MLPRegressor:\" , score)\n"
      ],
      "metadata": {
        "colab": {
          "base_uri": "https://localhost:8080/"
        },
        "id": "x0oOzAM4gpFK",
        "outputId": "63d8eb02-7029-4594-ed14-3011e946866e"
      },
      "execution_count": null,
      "outputs": [
        {
          "output_type": "stream",
          "name": "stdout",
          "text": [
            "MLPRegressor: 0.8753117206982544\n"
          ]
        }
      ]
    },
    {
      "cell_type": "code",
      "source": [
        "from sklearn.ensemble import VotingRegressor\n",
        "from sklearn.linear_model import LinearRegression\n",
        "from sklearn.tree import DecisionTreeRegressor\n",
        "\n",
        "# 개별 모델 초기화\n",
        "model1 = LinearRegression()\n",
        "model2 = DecisionTreeRegressor()\n",
        "\n",
        "# 앙상블 모델 초기화\n",
        "model = VotingRegressor(estimators=[('lr', model1), ('dt', model2)])\n",
        "\n",
        "# 모델 학습\n",
        "model.fit(X, y)\n",
        "score=val_score(model,valiation_df)\n",
        "print(\"VotingRegressor:\" , score)\n"
      ],
      "metadata": {
        "colab": {
          "base_uri": "https://localhost:8080/"
        },
        "id": "aSo9tWHTgpIV",
        "outputId": "2ecbeaae-0ee5-4de7-a9ac-d725d789c494"
      },
      "execution_count": null,
      "outputs": [
        {
          "output_type": "stream",
          "name": "stdout",
          "text": [
            "VotingRegressor: 0.8678304239401496\n"
          ]
        }
      ]
    },
    {
      "cell_type": "code",
      "source": [
        "from sklearn.ensemble import BaggingRegressor\n",
        "from sklearn.tree import DecisionTreeRegressor\n",
        "\n",
        "# 모델 초기화\n",
        "base_model = DecisionTreeRegressor()\n",
        "model = BaggingRegressor(base_estimator=base_model, n_estimators=10)\n",
        "\n",
        "# 모델 학습\n",
        "model.fit(X, y)\n",
        "\n",
        "score=val_score(model,valiation_df)\n",
        "print(\"BaggingRegressor:\" , score)\n"
      ],
      "metadata": {
        "colab": {
          "base_uri": "https://localhost:8080/"
        },
        "id": "JNokIHxogpL5",
        "outputId": "b925a1f3-5fba-4e16-e874-8c3df236b15a"
      },
      "execution_count": null,
      "outputs": [
        {
          "output_type": "stream",
          "name": "stderr",
          "text": [
            "/usr/local/lib/python3.10/dist-packages/sklearn/ensemble/_base.py:156: FutureWarning: `base_estimator` was renamed to `estimator` in version 1.2 and will be removed in 1.4.\n",
            "  warnings.warn(\n"
          ]
        },
        {
          "output_type": "stream",
          "name": "stdout",
          "text": [
            "BaggingRegressor: 0.8628428927680798\n"
          ]
        }
      ]
    },
    {
      "cell_type": "code",
      "source": [
        "###########################"
      ],
      "metadata": {
        "id": "CKc1buixgpO5"
      },
      "execution_count": null,
      "outputs": []
    },
    {
      "cell_type": "code",
      "source": [
        "from sklearn.linear_model import BayesianRidge\n",
        "\n",
        "model = BayesianRidge()\n",
        "model.fit(X,y)\n",
        "\n",
        "score=val_score(model,valiation_df)\n",
        "print(\"BayesianRidge:\" , score)"
      ],
      "metadata": {
        "colab": {
          "base_uri": "https://localhost:8080/"
        },
        "id": "_mNs_3AIgpSN",
        "outputId": "08e25f59-c0ab-4c8d-dbc4-d61135f5f10f"
      },
      "execution_count": null,
      "outputs": [
        {
          "output_type": "stream",
          "name": "stdout",
          "text": [
            "BayesianRidge: 0.8753117206982544\n"
          ]
        }
      ]
    },
    {
      "cell_type": "code",
      "source": [
        "from sklearn.linear_model import HuberRegressor\n",
        "\n",
        "model = HuberRegressor()\n",
        "model.fit(X,y)\n",
        "score=val_score(model,valiation_df)\n",
        "print(\"HuberRegressor:\" , score)\n"
      ],
      "metadata": {
        "colab": {
          "base_uri": "https://localhost:8080/"
        },
        "id": "Nf_QgFkjlO4F",
        "outputId": "d0cc26f6-af3e-4a28-c092-7d65624ab190"
      },
      "execution_count": null,
      "outputs": [
        {
          "output_type": "stream",
          "name": "stdout",
          "text": [
            "HuberRegressor: 0.8778054862842892\n"
          ]
        },
        {
          "output_type": "stream",
          "name": "stderr",
          "text": [
            "/usr/local/lib/python3.10/dist-packages/sklearn/linear_model/_huber.py:342: ConvergenceWarning: lbfgs failed to converge (status=1):\n",
            "STOP: TOTAL NO. of ITERATIONS REACHED LIMIT.\n",
            "\n",
            "Increase the number of iterations (max_iter) or scale the data as shown in:\n",
            "    https://scikit-learn.org/stable/modules/preprocessing.html\n",
            "  self.n_iter_ = _check_optimize_result(\"lbfgs\", opt_res, self.max_iter)\n"
          ]
        }
      ]
    },
    {
      "cell_type": "code",
      "source": [
        "# from sklearn.linear_model import QuantileRegressor\n",
        "\n",
        "# model = QuantileRegressor(quantile=0.5)  # 중위수 회귀\n",
        "# model.fit(X,y)\n",
        "# score=val_score(model,valiation_df)\n",
        "# print(\"QuantileRegressor:\" , score)\n"
      ],
      "metadata": {
        "id": "-05WDKSylO6r"
      },
      "execution_count": null,
      "outputs": []
    },
    {
      "cell_type": "code",
      "source": [
        "from sklearn.linear_model import PoissonRegressor\n",
        "\n",
        "model = PoissonRegressor()\n",
        "model.fit(X,y)\n",
        "score=val_score(model,valiation_df)\n",
        "print(\"PoissonRegressor:\" , score)\n"
      ],
      "metadata": {
        "colab": {
          "base_uri": "https://localhost:8080/"
        },
        "id": "__-oBd5xlO9y",
        "outputId": "6b66d9a9-b9ae-45b1-890d-75cbe9ceca51"
      },
      "execution_count": null,
      "outputs": [
        {
          "output_type": "stream",
          "name": "stdout",
          "text": [
            "PoissonRegressor: 0.8528678304239401\n"
          ]
        }
      ]
    },
    {
      "cell_type": "code",
      "source": [
        "from sklearn.linear_model import TheilSenRegressor\n",
        "\n",
        "model = TheilSenRegressor()\n",
        "model.fit(X,y)\n",
        "score=val_score(model,valiation_df)\n",
        "print(\"TheilSenRegressor:\" , score)\n"
      ],
      "metadata": {
        "colab": {
          "base_uri": "https://localhost:8080/"
        },
        "id": "ggScDySglPAO",
        "outputId": "af3c3890-cefe-43dc-ee49-eb5e15b6526a"
      },
      "execution_count": null,
      "outputs": [
        {
          "output_type": "stream",
          "name": "stdout",
          "text": [
            "TheilSenRegressor: 0.8778054862842892\n"
          ]
        }
      ]
    },
    {
      "cell_type": "code",
      "source": [
        "from sklearn.linear_model import OrthogonalMatchingPursuit\n",
        "\n",
        "model = OrthogonalMatchingPursuit()\n",
        "model.fit(X,y)\n",
        "score=val_score(model,valiation_df)\n",
        "print(\"OrthogonalMatchingPursuit:\" , score)\n"
      ],
      "metadata": {
        "colab": {
          "base_uri": "https://localhost:8080/"
        },
        "id": "nxOlfOqFlPC3",
        "outputId": "8d051eeb-8141-4945-8a3e-7a255227e173"
      },
      "execution_count": null,
      "outputs": [
        {
          "output_type": "stream",
          "name": "stdout",
          "text": [
            "OrthogonalMatchingPursuit: 0.8528678304239401\n"
          ]
        }
      ]
    },
    {
      "cell_type": "code",
      "source": [
        "from sklearn.gaussian_process import GaussianProcessRegressor\n",
        "from sklearn.gaussian_process.kernels import RBF\n",
        "\n",
        "kernel = RBF()  # RBF 커널 사용\n",
        "model = GaussianProcessRegressor(kernel=kernel)\n",
        "model.fit(X,y)\n",
        "score=val_score(model,valiation_df)\n",
        "print(\"GaussianProcessRegressor:\" , score)\n"
      ],
      "metadata": {
        "colab": {
          "base_uri": "https://localhost:8080/"
        },
        "id": "iAgPOJeZgpVg",
        "outputId": "cbb25f97-9ecd-4e54-d822-30a7db59da5c"
      },
      "execution_count": null,
      "outputs": [
        {
          "output_type": "stream",
          "name": "stderr",
          "text": [
            "/usr/local/lib/python3.10/dist-packages/sklearn/gaussian_process/kernels.py:419: ConvergenceWarning: The optimal value found for dimension 0 of parameter length_scale is close to the specified lower bound 1e-05. Decreasing the bound and calling fit again may find a better value.\n",
            "  warnings.warn(\n"
          ]
        },
        {
          "output_type": "stream",
          "name": "stdout",
          "text": [
            "GaussianProcessRegressor: 0.09725685785536159\n"
          ]
        }
      ]
    },
    {
      "cell_type": "code",
      "source": [
        "from sklearn.cross_decomposition import PLSRegression\n",
        "\n",
        "model = PLSRegression(n_components=2)\n",
        "model.fit(X,y)\n",
        "score=val_score(model,valiation_df)\n",
        "print(\"PLSRegression:\" , score)\n"
      ],
      "metadata": {
        "colab": {
          "base_uri": "https://localhost:8080/"
        },
        "id": "edluZkM9lbrC",
        "outputId": "2a800dd0-01d0-4693-dadb-d7a71eabf5aa"
      },
      "execution_count": null,
      "outputs": [
        {
          "output_type": "stream",
          "name": "stdout",
          "text": [
            "PLSRegression: 0.8753117206982544\n"
          ]
        }
      ]
    },
    {
      "cell_type": "code",
      "source": [
        "from sklearn.kernel_ridge import KernelRidge\n",
        "\n",
        "model = KernelRidge(kernel='rbf')\n",
        "model.fit(X,y)\n",
        "score=val_score(model,valiation_df)\n",
        "print(\"KernelRidge:\" , score)\n"
      ],
      "metadata": {
        "colab": {
          "base_uri": "https://localhost:8080/"
        },
        "id": "r5Yw2n4Plbtn",
        "outputId": "d28531e5-20cb-448d-c09a-c1da615296b4"
      },
      "execution_count": null,
      "outputs": [
        {
          "output_type": "stream",
          "name": "stdout",
          "text": [
            "KernelRidge: 0.8778054862842892\n"
          ]
        }
      ]
    },
    {
      "cell_type": "code",
      "source": [
        "from sklearn.kernel_ridge import KernelRidge\n",
        "from sklearn.model_selection import RandomizedSearchCV\n",
        "from scipy.stats import uniform\n",
        "import numpy as np\n",
        "from sklearn.utils import shuffle\n",
        "\n",
        "# 데이터 샘플링\n",
        "X_sample, y_sample = shuffle(X, y, random_state=42)  # 데이터 샘플링\n",
        "X_sample = X_sample[:10000]  #10000개의 샘플 사용\n",
        "y_sample = y_sample[:10000]\n",
        "\n",
        "# KernelRidge 모델 초기화\n",
        "model = KernelRidge()\n",
        "\n",
        "# 하이퍼파라미터 범위 설정 (더 좁은 범위)\n",
        "param_distributions = {\n",
        "    'alpha': uniform(1e-2, 1e1),  # Regularization strength (범위 축소)\n",
        "    'kernel': ['linear', 'rbf'],  # Kernel types (범위 축소)\n",
        "    'gamma': uniform(1e-2, 1e-1),  # Kernel coefficient (범위 축소)\n",
        "    'degree': [2, 3],  # Degree of the polynomial kernel (적당한 값)\n",
        "    'coef0': uniform(0, 1)  # Independent term (범위 축소)\n",
        "}\n",
        "\n",
        "# RandomizedSearchCV 설정\n",
        "random_search = RandomizedSearchCV(\n",
        "    estimator=model,\n",
        "    param_distributions=param_distributions,\n",
        "    n_iter=30,  # 시도할 하이퍼파라미터 조합의 수\n",
        "    cv=3,  # 3-fold cross-validation\n",
        "    scoring='neg_mean_squared_error',  # 평가 척도\n",
        "    random_state=42,  # 결과 재현을 위한 랜덤 시드\n",
        "    n_jobs=-1,  # 병렬처리\n",
        "    verbose=2  # 진행 상황 출력\n",
        ")\n",
        "\n",
        "# 모델 훈련 및 하이퍼파라미터 튜닝\n",
        "random_search.fit(X_sample, y_sample)\n",
        "\n",
        "# 최적의 모델 및 하이퍼파라미터 확인\n",
        "best_model = random_search.best_estimator_\n",
        "best_params = random_search.best_params_\n",
        "print(\"Best KernelRidge model:\", best_model)\n",
        "print(\"Best parameters:\", best_params)\n",
        "\n",
        "# 성능 평가\n",
        "score=val_score(best_model,valiation_df)\n",
        "print(\"KernelRidge (with tuned hyperparameters):\", score)\n"
      ],
      "metadata": {
        "colab": {
          "base_uri": "https://localhost:8080/"
        },
        "id": "X-UOS2H2lbwO",
        "outputId": "4e116a79-a3cd-4282-ef80-e062c4127f2f"
      },
      "execution_count": null,
      "outputs": [
        {
          "output_type": "stream",
          "name": "stdout",
          "text": [
            "Fitting 3 folds for each of 30 candidates, totalling 90 fits\n",
            "Best KernelRidge model: KernelRidge(alpha=0.06522117123602399, coef0=0.8154614284548342, degree=2,\n",
            "            gamma=0.081134195274865)\n",
            "Best parameters: {'alpha': 0.06522117123602399, 'coef0': 0.8154614284548342, 'degree': 2, 'gamma': 0.081134195274865, 'kernel': 'linear'}\n",
            "KernelRidge (with tuned hyperparameters): 0.8778054862842892\n"
          ]
        }
      ]
    },
    {
      "cell_type": "code",
      "source": [
        "\n",
        "\n",
        "# Predict on test data\n",
        "X_test = test_df.iloc[:, 1:]\n",
        "y_pred = best_model.predict(X_test)\n",
        "\n",
        "# Identify top 10% of predicted values\n",
        "threshold = np.percentile(y_pred, 90)\n",
        "top_10_percent_mask = y_pred >= threshold\n",
        "\n",
        "# Create submission file\n",
        "submission_df = pd.read_csv('/content/drive/MyDrive/dacon/2024_8_data/submission/sample_submission.csv')\n",
        "submission_df['y'] = y_pred\n",
        "submission_df.to_csv('/content/drive/MyDrive/dacon/2024_8_data/submission/KernelRidge_submission.csv', index=False)"
      ],
      "metadata": {
        "id": "wEP8X6_L7e4B"
      },
      "execution_count": null,
      "outputs": []
    }
  ]
}